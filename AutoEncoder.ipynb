{
  "nbformat": 4,
  "nbformat_minor": 0,
  "metadata": {
    "colab": {
      "provenance": [],
      "gpuType": "T4"
    },
    "kernelspec": {
      "name": "python3",
      "display_name": "Python 3"
    },
    "language_info": {
      "name": "python"
    },
    "accelerator": "GPU"
  },
  "cells": [
    {
      "cell_type": "code",
      "execution_count": 3,
      "metadata": {
        "id": "luQ8FuC5tXHP"
      },
      "outputs": [],
      "source": [
        "import tensorflow as tf\n",
        "from tensorflow.keras.datasets import mnist\n",
        "import numpy as np\n",
        "import matplotlib.pyplot as plt"
      ]
    },
    {
      "cell_type": "code",
      "source": [
        "(x_train,_ ), (x_test, _ ) = mnist.load_data() #no target variable 'y' here\n",
        "\n",
        "#load data difly here, as its unsup learning , self-sup learning and will regen data / input from given data / input so target variable 'y' is not needed here"
      ],
      "metadata": {
        "id": "nH9oDRW68652"
      },
      "execution_count": 4,
      "outputs": []
    },
    {
      "cell_type": "code",
      "source": [
        "#display data\n",
        "\n",
        "n=10\n",
        "plt.figure(figsize=(20,4))\n",
        "for i in range(n):\n",
        "    ax=plt.subplot(1,n,i+1)\n",
        "    plt.imshow(x_test[i].reshape(28,28))\n",
        "    plt.gray()\n",
        "    ax.get_xaxis().set_visible(False)\n",
        "    ax.get_yaxis().set_visible(False)\n",
        "plt.show()\n",
        "plt.close()"
      ],
      "metadata": {
        "colab": {
          "base_uri": "https://localhost:8080/",
          "height": 142
        },
        "id": "IkQ3hojn9fsy",
        "outputId": "2b7470c8-3137-478e-f7cf-53a6ea840911"
      },
      "execution_count": 5,
      "outputs": [
        {
          "output_type": "display_data",
          "data": {
            "text/plain": [
              "<Figure size 2000x400 with 10 Axes>"
            ],
            "image/png": "[encoded data removed]"
          },
          "metadata": {}
        }
      ]
    },
    {
      "cell_type": "code",
      "source": [
        "#scaling the data\n",
        "\n",
        "x_train=x_train.astype('float32')/255\n",
        "x_test=x_test.astype('float32')/255\n",
        "x_train=x_train.reshape((len(x_train),28*28*1))\n",
        "x_test=x_test.reshape((len(x_test),28*28*1))\n",
        "print(x_train.shape)\n",
        "print(x_test.shape)"
      ],
      "metadata": {
        "colab": {
          "base_uri": "https://localhost:8080/"
        },
        "id": "QrfqRFx29wbi",
        "outputId": "644414b8-136c-4998-c158-ba68db8e0a66"
      },
      "execution_count": 6,
      "outputs": [
        {
          "output_type": "stream",
          "name": "stdout",
          "text": [
            "(60000, 784)\n",
            "(10000, 784)\n"
          ]
        }
      ]
    },
    {
      "cell_type": "markdown",
      "source": [
        "**Convolutional AutoEncoder**"
      ],
      "metadata": {
        "id": "B-jA7JfF-So7"
      }
    },
    {
      "cell_type": "code",
      "source": [
        "from tensorflow.keras.layers import Input, Dense, Conv2D, MaxPooling2D, UpSampling2D , Flatten, Reshape\n",
        "from tensorflow.keras.models import Model\n"
      ],
      "metadata": {
        "id": "o7kTYAxA-LhR"
      },
      "execution_count": 7,
      "outputs": []
    },
    {
      "cell_type": "markdown",
      "source": [
        "**Architecture of AE**"
      ],
      "metadata": {
        "id": "eqlH5wWf-nDv"
      }
    },
    {
      "cell_type": "code",
      "source": [
        "input_layer_cnv = Input(shape=(28,28,1)) #input of AE , img\n",
        "\n",
        "#Encoder , 32 : num of filter , decrease in encoder as compressing\n",
        "ae_cnv_en = Conv2D(32, (3,3), activation='relu', padding='same', kernel_initializer='he_normal')(input_layer_cnv) #end is input for that layer\n",
        "ae_cnv_en = MaxPooling2D((2,2), padding='same')(ae_cnv_en) #input for this layer\n",
        "\n",
        "ae_cnv_en = Conv2D(32, (3,3), activation='relu', padding='same', kernel_initializer='he_normal')(ae_cnv_en) #end is input for that layer\n",
        "ae_cnv_en = MaxPooling2D((2,2), padding='same')(ae_cnv_en) #input for this layer\n",
        "\n",
        "ae_cnv_en = Conv2D(4, (3,3), activation='relu', padding='same', kernel_initializer='he_normal')(ae_cnv_en) #end is input for that layer\n",
        "ae_cnv_en = MaxPooling2D((2,2), padding='same')(ae_cnv_en) #input for this layer\n",
        "\n",
        "ae_cnv_en = Flatten(name='bot')(ae_cnv_en) #compressing / flattening the encoded data , bot as in bottleneck is name of the layer\n",
        "#naming layers is useful, we can call it by name just to use that specific layer\n",
        "\n",
        "#Decoder\n",
        "#(4,4,4) means dim of decoder, 4x4x4=64 mastches the input_img_shape, as convo layer takes 2-D form not flatten form\n",
        "ae_cnv_de = Reshape((4,4,4), input_shape = (64,), name= \"botnext0\")(ae_cnv_en) #input for this layer\n",
        "ae_cnv_de = Conv2D(4, (3,3), activation='relu', padding='same', name = \"botnext1\")(ae_cnv_de)\n",
        "ae_cnv_de = UpSampling2D((2,2), name = \"botnext2\")(ae_cnv_de)\n",
        "\n",
        "#number of filters are increasing here as upsampling, decoding\n",
        "ae_cnv_de = Conv2D(32, (3,3), activation='relu', padding='same', name = \"botnext3\")(ae_cnv_de) #giving prev layer as input of this layer\n",
        "ae_cnv_de = UpSampling2D((2,2), name = \"botnext4\")(ae_cnv_de)\n",
        "\n",
        "ae_cnv_de = Conv2D(32, (3,3), activation='relu', padding='valid', name = \"botnext5\")(ae_cnv_de)\n",
        "ae_cnv_de = UpSampling2D((2,2), name = \"botnext6\")(ae_cnv_de)\n",
        "\n",
        "#output layer definition\n",
        "ae_cnv_de = Conv2D(1, (3,3), activation='sigmoid', padding='same', name = \"botnext7\")(ae_cnv_de) # using sigmoid for yes, no, either same img generated or not\n",
        "Ae_Conv = Model(inputs = input_layer_cnv, outputs = ae_cnv_de) # defining model\n",
        "\n",
        "#comiling model , 0.09 is learning rate , clip value is\n",
        "Ae_Conv.compile(optimizer=tf.keras.optimizers.SGD(0.09, clipvalue=2.5), loss='binary_crossentropy', metrics=['accuracy'])\n",
        "\n",
        "Ae_Conv.summary()"
      ],
      "metadata": {
        "colab": {
          "base_uri": "https://localhost:8080/",
          "height": 697
        },
        "id": "PU56LOAA-k12",
        "outputId": "103a32c5-bb98-4090-f792-ce896967dff8"
      },
      "execution_count": 14,
      "outputs": [
        {
          "output_type": "stream",
          "name": "stderr",
          "text": [
            "/usr/local/lib/python3.10/dist-packages/keras/src/layers/reshaping/reshape.py:39: UserWarning: Do not pass an `input_shape`/`input_dim` argument to a layer. When using Sequential models, prefer using an `Input(shape)` object as the first layer in the model instead.\n",
            "  super().__init__(**kwargs)\n"
          ]
        },
        {
          "output_type": "display_data",
          "data": {
            "text/plain": [
              "\u001b[1mModel: \"functional_1\"\u001b[0m\n"
            ],
            "text/html": [
              "<pre style=\"white-space:pre;overflow-x:auto;line-height:normal;font-family:Menlo,'DejaVu Sans Mono',consolas,'Courier New',monospace\"><span style=\"font-weight: bold\">Model: \"functional_1\"</span>\n",
              "</pre>\n"
            ]
          },
          "metadata": {}
        },
        {
          "output_type": "display_data",
          "data": {
            "text/plain": [
              "┏━━━━━━━━━━━━━━━━━━━━━━━━━━━━━━━━━━━━━━┳━━━━━━━━━━━━━━━━━━━━━━━━━━━━━┳━━━━━━━━━━━━━━━━━┓\n",
              "┃\u001b[1m \u001b[0m\u001b[1mLayer (type)                        \u001b[0m\u001b[1m \u001b[0m┃\u001b[1m \u001b[0m\u001b[1mOutput Shape               \u001b[0m\u001b[1m \u001b[0m┃\u001b[1m \u001b[0m\u001b[1m        Param #\u001b[0m\u001b[1m \u001b[0m┃\n",
              "┡━━━━━━━━━━━━━━━━━━━━━━━━━━━━━━━━━━━━━━╇━━━━━━━━━━━━━━━━━━━━━━━━━━━━━╇━━━━━━━━━━━━━━━━━┩\n",
              "│ input_layer_1 (\u001b[38;5;33mInputLayer\u001b[0m)           │ (\u001b[38;5;45mNone\u001b[0m, \u001b[38;5;34m28\u001b[0m, \u001b[38;5;34m28\u001b[0m, \u001b[38;5;34m1\u001b[0m)           │               \u001b[38;5;34m0\u001b[0m │\n",
              "├──────────────────────────────────────┼─────────────────────────────┼─────────────────┤\n",
              "│ conv2d_3 (\u001b[38;5;33mConv2D\u001b[0m)                    │ (\u001b[38;5;45mNone\u001b[0m, \u001b[38;5;34m28\u001b[0m, \u001b[38;5;34m28\u001b[0m, \u001b[38;5;34m32\u001b[0m)          │             \u001b[38;5;34m320\u001b[0m │\n",
              "├──────────────────────────────────────┼─────────────────────────────┼─────────────────┤\n",
              "│ max_pooling2d_3 (\u001b[38;5;33mMaxPooling2D\u001b[0m)       │ (\u001b[38;5;45mNone\u001b[0m, \u001b[38;5;34m14\u001b[0m, \u001b[38;5;34m14\u001b[0m, \u001b[38;5;34m32\u001b[0m)          │               \u001b[38;5;34m0\u001b[0m │\n",
              "├──────────────────────────────────────┼─────────────────────────────┼─────────────────┤\n",
              "│ conv2d_4 (\u001b[38;5;33mConv2D\u001b[0m)                    │ (\u001b[38;5;45mNone\u001b[0m, \u001b[38;5;34m14\u001b[0m, \u001b[38;5;34m14\u001b[0m, \u001b[38;5;34m32\u001b[0m)          │           \u001b[38;5;34m9,248\u001b[0m │\n",
              "├──────────────────────────────────────┼─────────────────────────────┼─────────────────┤\n",
              "│ max_pooling2d_4 (\u001b[38;5;33mMaxPooling2D\u001b[0m)       │ (\u001b[38;5;45mNone\u001b[0m, \u001b[38;5;34m7\u001b[0m, \u001b[38;5;34m7\u001b[0m, \u001b[38;5;34m32\u001b[0m)            │               \u001b[38;5;34m0\u001b[0m │\n",
              "├──────────────────────────────────────┼─────────────────────────────┼─────────────────┤\n",
              "│ conv2d_5 (\u001b[38;5;33mConv2D\u001b[0m)                    │ (\u001b[38;5;45mNone\u001b[0m, \u001b[38;5;34m7\u001b[0m, \u001b[38;5;34m7\u001b[0m, \u001b[38;5;34m4\u001b[0m)             │           \u001b[38;5;34m1,156\u001b[0m │\n",
              "├──────────────────────────────────────┼─────────────────────────────┼─────────────────┤\n",
              "│ max_pooling2d_5 (\u001b[38;5;33mMaxPooling2D\u001b[0m)       │ (\u001b[38;5;45mNone\u001b[0m, \u001b[38;5;34m4\u001b[0m, \u001b[38;5;34m4\u001b[0m, \u001b[38;5;34m4\u001b[0m)             │               \u001b[38;5;34m0\u001b[0m │\n",
              "├──────────────────────────────────────┼─────────────────────────────┼─────────────────┤\n",
              "│ bot (\u001b[38;5;33mFlatten\u001b[0m)                        │ (\u001b[38;5;45mNone\u001b[0m, \u001b[38;5;34m64\u001b[0m)                  │               \u001b[38;5;34m0\u001b[0m │\n",
              "├──────────────────────────────────────┼─────────────────────────────┼─────────────────┤\n",
              "│ botnext0 (\u001b[38;5;33mReshape\u001b[0m)                   │ (\u001b[38;5;45mNone\u001b[0m, \u001b[38;5;34m4\u001b[0m, \u001b[38;5;34m4\u001b[0m, \u001b[38;5;34m4\u001b[0m)             │               \u001b[38;5;34m0\u001b[0m │\n",
              "├──────────────────────────────────────┼─────────────────────────────┼─────────────────┤\n",
              "│ botnext1 (\u001b[38;5;33mConv2D\u001b[0m)                    │ (\u001b[38;5;45mNone\u001b[0m, \u001b[38;5;34m4\u001b[0m, \u001b[38;5;34m4\u001b[0m, \u001b[38;5;34m4\u001b[0m)             │             \u001b[38;5;34m148\u001b[0m │\n",
              "├──────────────────────────────────────┼─────────────────────────────┼─────────────────┤\n",
              "│ botnext2 (\u001b[38;5;33mUpSampling2D\u001b[0m)              │ (\u001b[38;5;45mNone\u001b[0m, \u001b[38;5;34m8\u001b[0m, \u001b[38;5;34m8\u001b[0m, \u001b[38;5;34m4\u001b[0m)             │               \u001b[38;5;34m0\u001b[0m │\n",
              "├──────────────────────────────────────┼─────────────────────────────┼─────────────────┤\n",
              "│ botnext3 (\u001b[38;5;33mConv2D\u001b[0m)                    │ (\u001b[38;5;45mNone\u001b[0m, \u001b[38;5;34m8\u001b[0m, \u001b[38;5;34m8\u001b[0m, \u001b[38;5;34m32\u001b[0m)            │           \u001b[38;5;34m1,184\u001b[0m │\n",
              "├──────────────────────────────────────┼─────────────────────────────┼─────────────────┤\n",
              "│ botnext4 (\u001b[38;5;33mUpSampling2D\u001b[0m)              │ (\u001b[38;5;45mNone\u001b[0m, \u001b[38;5;34m16\u001b[0m, \u001b[38;5;34m16\u001b[0m, \u001b[38;5;34m32\u001b[0m)          │               \u001b[38;5;34m0\u001b[0m │\n",
              "├──────────────────────────────────────┼─────────────────────────────┼─────────────────┤\n",
              "│ botnext5 (\u001b[38;5;33mConv2D\u001b[0m)                    │ (\u001b[38;5;45mNone\u001b[0m, \u001b[38;5;34m14\u001b[0m, \u001b[38;5;34m14\u001b[0m, \u001b[38;5;34m32\u001b[0m)          │           \u001b[38;5;34m9,248\u001b[0m │\n",
              "├──────────────────────────────────────┼─────────────────────────────┼─────────────────┤\n",
              "│ botnext6 (\u001b[38;5;33mUpSampling2D\u001b[0m)              │ (\u001b[38;5;45mNone\u001b[0m, \u001b[38;5;34m28\u001b[0m, \u001b[38;5;34m28\u001b[0m, \u001b[38;5;34m32\u001b[0m)          │               \u001b[38;5;34m0\u001b[0m │\n",
              "├──────────────────────────────────────┼─────────────────────────────┼─────────────────┤\n",
              "│ botnext7 (\u001b[38;5;33mConv2D\u001b[0m)                    │ (\u001b[38;5;45mNone\u001b[0m, \u001b[38;5;34m28\u001b[0m, \u001b[38;5;34m28\u001b[0m, \u001b[38;5;34m1\u001b[0m)           │             \u001b[38;5;34m289\u001b[0m │\n",
              "└──────────────────────────────────────┴─────────────────────────────┴─────────────────┘\n"
            ],
            "text/html": [
              "<pre style=\"white-space:pre;overflow-x:auto;line-height:normal;font-family:Menlo,'DejaVu Sans Mono',consolas,'Courier New',monospace\">┏━━━━━━━━━━━━━━━━━━━━━━━━━━━━━━━━━━━━━━┳━━━━━━━━━━━━━━━━━━━━━━━━━━━━━┳━━━━━━━━━━━━━━━━━┓\n",
              "┃<span style=\"font-weight: bold\"> Layer (type)                         </span>┃<span style=\"font-weight: bold\"> Output Shape                </span>┃<span style=\"font-weight: bold\">         Param # </span>┃\n",
              "┡━━━━━━━━━━━━━━━━━━━━━━━━━━━━━━━━━━━━━━╇━━━━━━━━━━━━━━━━━━━━━━━━━━━━━╇━━━━━━━━━━━━━━━━━┩\n",
              "│ input_layer_1 (<span style=\"color: #0087ff; text-decoration-color: #0087ff\">InputLayer</span>)           │ (<span style=\"color: #00d7ff; text-decoration-color: #00d7ff\">None</span>, <span style=\"color: #00af00; text-decoration-color: #00af00\">28</span>, <span style=\"color: #00af00; text-decoration-color: #00af00\">28</span>, <span style=\"color: #00af00; text-decoration-color: #00af00\">1</span>)           │               <span style=\"color: #00af00; text-decoration-color: #00af00\">0</span> │\n",
              "├──────────────────────────────────────┼─────────────────────────────┼─────────────────┤\n",
              "│ conv2d_3 (<span style=\"color: #0087ff; text-decoration-color: #0087ff\">Conv2D</span>)                    │ (<span style=\"color: #00d7ff; text-decoration-color: #00d7ff\">None</span>, <span style=\"color: #00af00; text-decoration-color: #00af00\">28</span>, <span style=\"color: #00af00; text-decoration-color: #00af00\">28</span>, <span style=\"color: #00af00; text-decoration-color: #00af00\">32</span>)          │             <span style=\"color: #00af00; text-decoration-color: #00af00\">320</span> │\n",
              "├──────────────────────────────────────┼─────────────────────────────┼─────────────────┤\n",
              "│ max_pooling2d_3 (<span style=\"color: #0087ff; text-decoration-color: #0087ff\">MaxPooling2D</span>)       │ (<span style=\"color: #00d7ff; text-decoration-color: #00d7ff\">None</span>, <span style=\"color: #00af00; text-decoration-color: #00af00\">14</span>, <span style=\"color: #00af00; text-decoration-color: #00af00\">14</span>, <span style=\"color: #00af00; text-decoration-color: #00af00\">32</span>)          │               <span style=\"color: #00af00; text-decoration-color: #00af00\">0</span> │\n",
              "├──────────────────────────────────────┼─────────────────────────────┼─────────────────┤\n",
              "│ conv2d_4 (<span style=\"color: #0087ff; text-decoration-color: #0087ff\">Conv2D</span>)                    │ (<span style=\"color: #00d7ff; text-decoration-color: #00d7ff\">None</span>, <span style=\"color: #00af00; text-decoration-color: #00af00\">14</span>, <span style=\"color: #00af00; text-decoration-color: #00af00\">14</span>, <span style=\"color: #00af00; text-decoration-color: #00af00\">32</span>)          │           <span style=\"color: #00af00; text-decoration-color: #00af00\">9,248</span> │\n",
              "├──────────────────────────────────────┼─────────────────────────────┼─────────────────┤\n",
              "│ max_pooling2d_4 (<span style=\"color: #0087ff; text-decoration-color: #0087ff\">MaxPooling2D</span>)       │ (<span style=\"color: #00d7ff; text-decoration-color: #00d7ff\">None</span>, <span style=\"color: #00af00; text-decoration-color: #00af00\">7</span>, <span style=\"color: #00af00; text-decoration-color: #00af00\">7</span>, <span style=\"color: #00af00; text-decoration-color: #00af00\">32</span>)            │               <span style=\"color: #00af00; text-decoration-color: #00af00\">0</span> │\n",
              "├──────────────────────────────────────┼─────────────────────────────┼─────────────────┤\n",
              "│ conv2d_5 (<span style=\"color: #0087ff; text-decoration-color: #0087ff\">Conv2D</span>)                    │ (<span style=\"color: #00d7ff; text-decoration-color: #00d7ff\">None</span>, <span style=\"color: #00af00; text-decoration-color: #00af00\">7</span>, <span style=\"color: #00af00; text-decoration-color: #00af00\">7</span>, <span style=\"color: #00af00; text-decoration-color: #00af00\">4</span>)             │           <span style=\"color: #00af00; text-decoration-color: #00af00\">1,156</span> │\n",
              "├──────────────────────────────────────┼─────────────────────────────┼─────────────────┤\n",
              "│ max_pooling2d_5 (<span style=\"color: #0087ff; text-decoration-color: #0087ff\">MaxPooling2D</span>)       │ (<span style=\"color: #00d7ff; text-decoration-color: #00d7ff\">None</span>, <span style=\"color: #00af00; text-decoration-color: #00af00\">4</span>, <span style=\"color: #00af00; text-decoration-color: #00af00\">4</span>, <span style=\"color: #00af00; text-decoration-color: #00af00\">4</span>)             │               <span style=\"color: #00af00; text-decoration-color: #00af00\">0</span> │\n",
              "├──────────────────────────────────────┼─────────────────────────────┼─────────────────┤\n",
              "│ bot (<span style=\"color: #0087ff; text-decoration-color: #0087ff\">Flatten</span>)                        │ (<span style=\"color: #00d7ff; text-decoration-color: #00d7ff\">None</span>, <span style=\"color: #00af00; text-decoration-color: #00af00\">64</span>)                  │               <span style=\"color: #00af00; text-decoration-color: #00af00\">0</span> │\n",
              "├──────────────────────────────────────┼─────────────────────────────┼─────────────────┤\n",
              "│ botnext0 (<span style=\"color: #0087ff; text-decoration-color: #0087ff\">Reshape</span>)                   │ (<span style=\"color: #00d7ff; text-decoration-color: #00d7ff\">None</span>, <span style=\"color: #00af00; text-decoration-color: #00af00\">4</span>, <span style=\"color: #00af00; text-decoration-color: #00af00\">4</span>, <span style=\"color: #00af00; text-decoration-color: #00af00\">4</span>)             │               <span style=\"color: #00af00; text-decoration-color: #00af00\">0</span> │\n",
              "├──────────────────────────────────────┼─────────────────────────────┼─────────────────┤\n",
              "│ botnext1 (<span style=\"color: #0087ff; text-decoration-color: #0087ff\">Conv2D</span>)                    │ (<span style=\"color: #00d7ff; text-decoration-color: #00d7ff\">None</span>, <span style=\"color: #00af00; text-decoration-color: #00af00\">4</span>, <span style=\"color: #00af00; text-decoration-color: #00af00\">4</span>, <span style=\"color: #00af00; text-decoration-color: #00af00\">4</span>)             │             <span style=\"color: #00af00; text-decoration-color: #00af00\">148</span> │\n",
              "├──────────────────────────────────────┼─────────────────────────────┼─────────────────┤\n",
              "│ botnext2 (<span style=\"color: #0087ff; text-decoration-color: #0087ff\">UpSampling2D</span>)              │ (<span style=\"color: #00d7ff; text-decoration-color: #00d7ff\">None</span>, <span style=\"color: #00af00; text-decoration-color: #00af00\">8</span>, <span style=\"color: #00af00; text-decoration-color: #00af00\">8</span>, <span style=\"color: #00af00; text-decoration-color: #00af00\">4</span>)             │               <span style=\"color: #00af00; text-decoration-color: #00af00\">0</span> │\n",
              "├──────────────────────────────────────┼─────────────────────────────┼─────────────────┤\n",
              "│ botnext3 (<span style=\"color: #0087ff; text-decoration-color: #0087ff\">Conv2D</span>)                    │ (<span style=\"color: #00d7ff; text-decoration-color: #00d7ff\">None</span>, <span style=\"color: #00af00; text-decoration-color: #00af00\">8</span>, <span style=\"color: #00af00; text-decoration-color: #00af00\">8</span>, <span style=\"color: #00af00; text-decoration-color: #00af00\">32</span>)            │           <span style=\"color: #00af00; text-decoration-color: #00af00\">1,184</span> │\n",
              "├──────────────────────────────────────┼─────────────────────────────┼─────────────────┤\n",
              "│ botnext4 (<span style=\"color: #0087ff; text-decoration-color: #0087ff\">UpSampling2D</span>)              │ (<span style=\"color: #00d7ff; text-decoration-color: #00d7ff\">None</span>, <span style=\"color: #00af00; text-decoration-color: #00af00\">16</span>, <span style=\"color: #00af00; text-decoration-color: #00af00\">16</span>, <span style=\"color: #00af00; text-decoration-color: #00af00\">32</span>)          │               <span style=\"color: #00af00; text-decoration-color: #00af00\">0</span> │\n",
              "├──────────────────────────────────────┼─────────────────────────────┼─────────────────┤\n",
              "│ botnext5 (<span style=\"color: #0087ff; text-decoration-color: #0087ff\">Conv2D</span>)                    │ (<span style=\"color: #00d7ff; text-decoration-color: #00d7ff\">None</span>, <span style=\"color: #00af00; text-decoration-color: #00af00\">14</span>, <span style=\"color: #00af00; text-decoration-color: #00af00\">14</span>, <span style=\"color: #00af00; text-decoration-color: #00af00\">32</span>)          │           <span style=\"color: #00af00; text-decoration-color: #00af00\">9,248</span> │\n",
              "├──────────────────────────────────────┼─────────────────────────────┼─────────────────┤\n",
              "│ botnext6 (<span style=\"color: #0087ff; text-decoration-color: #0087ff\">UpSampling2D</span>)              │ (<span style=\"color: #00d7ff; text-decoration-color: #00d7ff\">None</span>, <span style=\"color: #00af00; text-decoration-color: #00af00\">28</span>, <span style=\"color: #00af00; text-decoration-color: #00af00\">28</span>, <span style=\"color: #00af00; text-decoration-color: #00af00\">32</span>)          │               <span style=\"color: #00af00; text-decoration-color: #00af00\">0</span> │\n",
              "├──────────────────────────────────────┼─────────────────────────────┼─────────────────┤\n",
              "│ botnext7 (<span style=\"color: #0087ff; text-decoration-color: #0087ff\">Conv2D</span>)                    │ (<span style=\"color: #00d7ff; text-decoration-color: #00d7ff\">None</span>, <span style=\"color: #00af00; text-decoration-color: #00af00\">28</span>, <span style=\"color: #00af00; text-decoration-color: #00af00\">28</span>, <span style=\"color: #00af00; text-decoration-color: #00af00\">1</span>)           │             <span style=\"color: #00af00; text-decoration-color: #00af00\">289</span> │\n",
              "└──────────────────────────────────────┴─────────────────────────────┴─────────────────┘\n",
              "</pre>\n"
            ]
          },
          "metadata": {}
        },
        {
          "output_type": "display_data",
          "data": {
            "text/plain": [
              "\u001b[1m Total params: \u001b[0m\u001b[38;5;34m21,593\u001b[0m (84.35 KB)\n"
            ],
            "text/html": [
              "<pre style=\"white-space:pre;overflow-x:auto;line-height:normal;font-family:Menlo,'DejaVu Sans Mono',consolas,'Courier New',monospace\"><span style=\"font-weight: bold\"> Total params: </span><span style=\"color: #00af00; text-decoration-color: #00af00\">21,593</span> (84.35 KB)\n",
              "</pre>\n"
            ]
          },
          "metadata": {}
        },
        {
          "output_type": "display_data",
          "data": {
            "text/plain": [
              "\u001b[1m Trainable params: \u001b[0m\u001b[38;5;34m21,593\u001b[0m (84.35 KB)\n"
            ],
            "text/html": [
              "<pre style=\"white-space:pre;overflow-x:auto;line-height:normal;font-family:Menlo,'DejaVu Sans Mono',consolas,'Courier New',monospace\"><span style=\"font-weight: bold\"> Trainable params: </span><span style=\"color: #00af00; text-decoration-color: #00af00\">21,593</span> (84.35 KB)\n",
              "</pre>\n"
            ]
          },
          "metadata": {}
        },
        {
          "output_type": "display_data",
          "data": {
            "text/plain": [
              "\u001b[1m Non-trainable params: \u001b[0m\u001b[38;5;34m0\u001b[0m (0.00 B)\n"
            ],
            "text/html": [
              "<pre style=\"white-space:pre;overflow-x:auto;line-height:normal;font-family:Menlo,'DejaVu Sans Mono',consolas,'Courier New',monospace\"><span style=\"font-weight: bold\"> Non-trainable params: </span><span style=\"color: #00af00; text-decoration-color: #00af00\">0</span> (0.00 B)\n",
              "</pre>\n"
            ]
          },
          "metadata": {}
        }
      ]
    },
    {
      "cell_type": "code",
      "source": [
        "#reshape data\n",
        "\n",
        "x_train = x_train.reshape(x_train.shape[0],28,28,1)\n",
        "x_test = x_test.reshape(x_test.shape[0],28,28,1)\n",
        "print(x_train.shape)\n",
        "print(x_test.shape)"
      ],
      "metadata": {
        "colab": {
          "base_uri": "https://localhost:8080/"
        },
        "id": "8TvkGhXVDWYu",
        "outputId": "163b6926-fa71-4384-a7a9-1939f69f04ee"
      },
      "execution_count": 15,
      "outputs": [
        {
          "output_type": "stream",
          "name": "stdout",
          "text": [
            "(60000, 28, 28, 1)\n",
            "(10000, 28, 28, 1)\n"
          ]
        }
      ]
    },
    {
      "cell_type": "markdown",
      "source": [
        "**Training AEs**"
      ],
      "metadata": {
        "id": "WIgWTZ1qDv1H"
      }
    },
    {
      "cell_type": "code",
      "source": [
        "#self-sup learning so taking x-train as input and giving x-train as comparison for loss"
      ],
      "metadata": {
        "id": "k7gJ02iWFZUy"
      },
      "execution_count": null,
      "outputs": []
    },
    {
      "cell_type": "code",
      "source": [
        "from time import time\n",
        "tic = time()\n",
        "Ae_Conv.fit(x_train, x_train,\n",
        "            epochs=100,\n",
        "            verbose=2,\n",
        "            batch_size=1024,\n",
        "            shuffle=False, validation_split=0.1)\n",
        "toc=time()\n",
        "print(\"Training took {} Seconds\".format(toc-tic))"
      ],
      "metadata": {
        "colab": {
          "base_uri": "https://localhost:8080/"
        },
        "id": "34dRKHcLDzv6",
        "outputId": "066bdf9b-1b19-4655-9c3f-e91d5a4d7d81"
      },
      "execution_count": 16,
      "outputs": [
        {
          "output_type": "stream",
          "name": "stdout",
          "text": [
            "Epoch 1/100\n",
            "53/53 - 16s - 304ms/step - accuracy: 0.7985 - loss: 0.3536 - val_accuracy: 0.8086 - val_loss: 0.2600\n",
            "Epoch 2/100\n",
            "53/53 - 7s - 138ms/step - accuracy: 0.7968 - loss: 0.2407 - val_accuracy: 0.7815 - val_loss: 0.2269\n",
            "Epoch 3/100\n",
            "53/53 - 3s - 50ms/step - accuracy: 0.7886 - loss: 0.2198 - val_accuracy: 0.7965 - val_loss: 0.2135\n",
            "Epoch 4/100\n",
            "53/53 - 1s - 26ms/step - accuracy: 0.7878 - loss: 0.2109 - val_accuracy: 0.8001 - val_loss: 0.2112\n",
            "Epoch 5/100\n",
            "53/53 - 3s - 48ms/step - accuracy: 0.7884 - loss: 0.2054 - val_accuracy: 0.8002 - val_loss: 0.2076\n",
            "Epoch 6/100\n",
            "53/53 - 3s - 48ms/step - accuracy: 0.7889 - loss: 0.2015 - val_accuracy: 0.8010 - val_loss: 0.2047\n",
            "Epoch 7/100\n",
            "53/53 - 1s - 26ms/step - accuracy: 0.7895 - loss: 0.1984 - val_accuracy: 0.8019 - val_loss: 0.2020\n",
            "Epoch 8/100\n",
            "53/53 - 3s - 48ms/step - accuracy: 0.7901 - loss: 0.1956 - val_accuracy: 0.8024 - val_loss: 0.1989\n",
            "Epoch 9/100\n",
            "53/53 - 1s - 28ms/step - accuracy: 0.7908 - loss: 0.1930 - val_accuracy: 0.8038 - val_loss: 0.1988\n",
            "Epoch 10/100\n",
            "53/53 - 2s - 47ms/step - accuracy: 0.7916 - loss: 0.1903 - val_accuracy: 0.8057 - val_loss: 0.2065\n",
            "Epoch 11/100\n",
            "53/53 - 1s - 26ms/step - accuracy: 0.7924 - loss: 0.1881 - val_accuracy: 0.8057 - val_loss: 0.2085\n",
            "Epoch 12/100\n",
            "53/53 - 3s - 47ms/step - accuracy: 0.7926 - loss: 0.1874 - val_accuracy: 0.8058 - val_loss: 0.1980\n",
            "Epoch 13/100\n",
            "53/53 - 3s - 48ms/step - accuracy: 0.7939 - loss: 0.1833 - val_accuracy: 0.8001 - val_loss: 0.1812\n",
            "Epoch 14/100\n",
            "53/53 - 3s - 49ms/step - accuracy: 0.7934 - loss: 0.1848 - val_accuracy: 0.8028 - val_loss: 0.1839\n",
            "Epoch 15/100\n",
            "53/53 - 1s - 28ms/step - accuracy: 0.7945 - loss: 0.1805 - val_accuracy: 0.7906 - val_loss: 0.1827\n",
            "Epoch 16/100\n",
            "53/53 - 1s - 26ms/step - accuracy: 0.7946 - loss: 0.1802 - val_accuracy: 0.8043 - val_loss: 0.1836\n",
            "Epoch 17/100\n",
            "53/53 - 3s - 48ms/step - accuracy: 0.7955 - loss: 0.1768 - val_accuracy: 0.7900 - val_loss: 0.1790\n",
            "Epoch 18/100\n",
            "53/53 - 1s - 26ms/step - accuracy: 0.7954 - loss: 0.1774 - val_accuracy: 0.8047 - val_loss: 0.1802\n",
            "Epoch 19/100\n",
            "53/53 - 1s - 27ms/step - accuracy: 0.7963 - loss: 0.1739 - val_accuracy: 0.7927 - val_loss: 0.1746\n",
            "Epoch 20/100\n",
            "53/53 - 1s - 26ms/step - accuracy: 0.7962 - loss: 0.1742 - val_accuracy: 0.8052 - val_loss: 0.1776\n",
            "Epoch 21/100\n",
            "53/53 - 3s - 49ms/step - accuracy: 0.7970 - loss: 0.1712 - val_accuracy: 0.7944 - val_loss: 0.1707\n",
            "Epoch 22/100\n",
            "53/53 - 2s - 47ms/step - accuracy: 0.7969 - loss: 0.1715 - val_accuracy: 0.8056 - val_loss: 0.1752\n",
            "Epoch 23/100\n",
            "53/53 - 1s - 26ms/step - accuracy: 0.7976 - loss: 0.1688 - val_accuracy: 0.7958 - val_loss: 0.1675\n",
            "Epoch 24/100\n",
            "53/53 - 3s - 48ms/step - accuracy: 0.7976 - loss: 0.1690 - val_accuracy: 0.8058 - val_loss: 0.1728\n",
            "Epoch 25/100\n",
            "53/53 - 3s - 48ms/step - accuracy: 0.7982 - loss: 0.1665 - val_accuracy: 0.7956 - val_loss: 0.1656\n",
            "Epoch 26/100\n",
            "53/53 - 1s - 26ms/step - accuracy: 0.7981 - loss: 0.1670 - val_accuracy: 0.8060 - val_loss: 0.1705\n",
            "Epoch 27/100\n",
            "53/53 - 1s - 27ms/step - accuracy: 0.7988 - loss: 0.1642 - val_accuracy: 0.7959 - val_loss: 0.1631\n",
            "Epoch 28/100\n",
            "53/53 - 1s - 28ms/step - accuracy: 0.7986 - loss: 0.1653 - val_accuracy: 0.8061 - val_loss: 0.1683\n",
            "Epoch 29/100\n",
            "53/53 - 1s - 27ms/step - accuracy: 0.7992 - loss: 0.1621 - val_accuracy: 0.8042 - val_loss: 0.1618\n",
            "Epoch 30/100\n",
            "53/53 - 1s - 26ms/step - accuracy: 0.7990 - loss: 0.1627 - val_accuracy: 0.8073 - val_loss: 0.1701\n",
            "Epoch 31/100\n",
            "53/53 - 3s - 48ms/step - accuracy: 0.7994 - loss: 0.1615 - val_accuracy: 0.8064 - val_loss: 0.1650\n",
            "Epoch 32/100\n",
            "53/53 - 3s - 48ms/step - accuracy: 0.7995 - loss: 0.1609 - val_accuracy: 0.8055 - val_loss: 0.1613\n",
            "Epoch 33/100\n",
            "53/53 - 3s - 48ms/step - accuracy: 0.7997 - loss: 0.1602 - val_accuracy: 0.8058 - val_loss: 0.1608\n",
            "Epoch 34/100\n",
            "53/53 - 1s - 28ms/step - accuracy: 0.7998 - loss: 0.1596 - val_accuracy: 0.8061 - val_loss: 0.1607\n",
            "Epoch 35/100\n",
            "53/53 - 1s - 28ms/step - accuracy: 0.8000 - loss: 0.1589 - val_accuracy: 0.8063 - val_loss: 0.1605\n",
            "Epoch 36/100\n",
            "53/53 - 2s - 47ms/step - accuracy: 0.8002 - loss: 0.1583 - val_accuracy: 0.8062 - val_loss: 0.1594\n",
            "Epoch 37/100\n",
            "53/53 - 3s - 48ms/step - accuracy: 0.8003 - loss: 0.1576 - val_accuracy: 0.8064 - val_loss: 0.1589\n",
            "Epoch 38/100\n",
            "53/53 - 1s - 27ms/step - accuracy: 0.8004 - loss: 0.1570 - val_accuracy: 0.8064 - val_loss: 0.1580\n",
            "Epoch 39/100\n",
            "53/53 - 3s - 48ms/step - accuracy: 0.8006 - loss: 0.1564 - val_accuracy: 0.8061 - val_loss: 0.1565\n",
            "Epoch 40/100\n",
            "53/53 - 1s - 28ms/step - accuracy: 0.8007 - loss: 0.1558 - val_accuracy: 0.8062 - val_loss: 0.1557\n",
            "Epoch 41/100\n",
            "53/53 - 3s - 47ms/step - accuracy: 0.8009 - loss: 0.1552 - val_accuracy: 0.8061 - val_loss: 0.1549\n",
            "Epoch 42/100\n",
            "53/53 - 3s - 47ms/step - accuracy: 0.8010 - loss: 0.1546 - val_accuracy: 0.8059 - val_loss: 0.1535\n",
            "Epoch 43/100\n",
            "53/53 - 3s - 48ms/step - accuracy: 0.8011 - loss: 0.1541 - val_accuracy: 0.8064 - val_loss: 0.1539\n",
            "Epoch 44/100\n",
            "53/53 - 1s - 27ms/step - accuracy: 0.8013 - loss: 0.1535 - val_accuracy: 0.8061 - val_loss: 0.1525\n",
            "Epoch 45/100\n",
            "53/53 - 3s - 49ms/step - accuracy: 0.8014 - loss: 0.1530 - val_accuracy: 0.8063 - val_loss: 0.1521\n",
            "Epoch 46/100\n",
            "53/53 - 2s - 47ms/step - accuracy: 0.8015 - loss: 0.1524 - val_accuracy: 0.8064 - val_loss: 0.1517\n",
            "Epoch 47/100\n",
            "53/53 - 3s - 48ms/step - accuracy: 0.8017 - loss: 0.1519 - val_accuracy: 0.8065 - val_loss: 0.1511\n",
            "Epoch 48/100\n",
            "53/53 - 3s - 48ms/step - accuracy: 0.8018 - loss: 0.1514 - val_accuracy: 0.8064 - val_loss: 0.1502\n",
            "Epoch 49/100\n",
            "53/53 - 3s - 48ms/step - accuracy: 0.8019 - loss: 0.1509 - val_accuracy: 0.8064 - val_loss: 0.1495\n",
            "Epoch 50/100\n",
            "53/53 - 3s - 49ms/step - accuracy: 0.8020 - loss: 0.1503 - val_accuracy: 0.8061 - val_loss: 0.1483\n",
            "Epoch 51/100\n",
            "53/53 - 2s - 47ms/step - accuracy: 0.8021 - loss: 0.1498 - val_accuracy: 0.8064 - val_loss: 0.1481\n",
            "Epoch 52/100\n",
            "53/53 - 3s - 48ms/step - accuracy: 0.8023 - loss: 0.1494 - val_accuracy: 0.8055 - val_loss: 0.1463\n",
            "Epoch 53/100\n",
            "53/53 - 1s - 26ms/step - accuracy: 0.8023 - loss: 0.1493 - val_accuracy: 0.8005 - val_loss: 0.1483\n",
            "Epoch 54/100\n",
            "53/53 - 3s - 48ms/step - accuracy: 0.8024 - loss: 0.1493 - val_accuracy: 0.8077 - val_loss: 0.1520\n",
            "Epoch 55/100\n",
            "53/53 - 3s - 49ms/step - accuracy: 0.8028 - loss: 0.1471 - val_accuracy: 0.8079 - val_loss: 0.1504\n",
            "Epoch 56/100\n",
            "53/53 - 1s - 27ms/step - accuracy: 0.8028 - loss: 0.1474 - val_accuracy: 0.8068 - val_loss: 0.1463\n",
            "Epoch 57/100\n",
            "53/53 - 1s - 26ms/step - accuracy: 0.8028 - loss: 0.1470 - val_accuracy: 0.8065 - val_loss: 0.1448\n",
            "Epoch 58/100\n",
            "53/53 - 3s - 48ms/step - accuracy: 0.8029 - loss: 0.1465 - val_accuracy: 0.8060 - val_loss: 0.1436\n",
            "Epoch 59/100\n",
            "53/53 - 3s - 48ms/step - accuracy: 0.8030 - loss: 0.1466 - val_accuracy: 0.8014 - val_loss: 0.1454\n",
            "Epoch 60/100\n",
            "53/53 - 1s - 26ms/step - accuracy: 0.8031 - loss: 0.1465 - val_accuracy: 0.8080 - val_loss: 0.1491\n",
            "Epoch 61/100\n",
            "53/53 - 3s - 48ms/step - accuracy: 0.8034 - loss: 0.1445 - val_accuracy: 0.8083 - val_loss: 0.1475\n",
            "Epoch 62/100\n",
            "53/53 - 2s - 30ms/step - accuracy: 0.8034 - loss: 0.1448 - val_accuracy: 0.8073 - val_loss: 0.1437\n",
            "Epoch 63/100\n",
            "53/53 - 1s - 27ms/step - accuracy: 0.8034 - loss: 0.1444 - val_accuracy: 0.8070 - val_loss: 0.1423\n",
            "Epoch 64/100\n",
            "53/53 - 3s - 48ms/step - accuracy: 0.8036 - loss: 0.1440 - val_accuracy: 0.8064 - val_loss: 0.1411\n",
            "Epoch 65/100\n",
            "53/53 - 3s - 48ms/step - accuracy: 0.8036 - loss: 0.1440 - val_accuracy: 0.8021 - val_loss: 0.1429\n",
            "Epoch 66/100\n",
            "53/53 - 3s - 48ms/step - accuracy: 0.8037 - loss: 0.1440 - val_accuracy: 0.8083 - val_loss: 0.1465\n",
            "Epoch 67/100\n",
            "53/53 - 1s - 27ms/step - accuracy: 0.8040 - loss: 0.1419 - val_accuracy: 0.8080 - val_loss: 0.1427\n",
            "Epoch 68/100\n",
            "53/53 - 3s - 48ms/step - accuracy: 0.8039 - loss: 0.1426 - val_accuracy: 0.8076 - val_loss: 0.1411\n",
            "Epoch 69/100\n",
            "53/53 - 3s - 48ms/step - accuracy: 0.8040 - loss: 0.1421 - val_accuracy: 0.8067 - val_loss: 0.1393\n",
            "Epoch 70/100\n",
            "53/53 - 1s - 26ms/step - accuracy: 0.8041 - loss: 0.1420 - val_accuracy: 0.8027 - val_loss: 0.1408\n",
            "Epoch 71/100\n",
            "53/53 - 1s - 27ms/step - accuracy: 0.8041 - loss: 0.1422 - val_accuracy: 0.8086 - val_loss: 0.1443\n",
            "Epoch 72/100\n",
            "53/53 - 1s - 27ms/step - accuracy: 0.8045 - loss: 0.1401 - val_accuracy: 0.8082 - val_loss: 0.1405\n",
            "Epoch 73/100\n",
            "53/53 - 3s - 48ms/step - accuracy: 0.8043 - loss: 0.1409 - val_accuracy: 0.8079 - val_loss: 0.1393\n",
            "Epoch 74/100\n",
            "53/53 - 1s - 28ms/step - accuracy: 0.8044 - loss: 0.1403 - val_accuracy: 0.8075 - val_loss: 0.1380\n",
            "Epoch 75/100\n",
            "53/53 - 1s - 27ms/step - accuracy: 0.8045 - loss: 0.1400 - val_accuracy: 0.8061 - val_loss: 0.1367\n",
            "Epoch 76/100\n",
            "53/53 - 1s - 26ms/step - accuracy: 0.8045 - loss: 0.1406 - val_accuracy: 0.8089 - val_loss: 0.1431\n",
            "Epoch 77/100\n",
            "53/53 - 3s - 48ms/step - accuracy: 0.8049 - loss: 0.1385 - val_accuracy: 0.8079 - val_loss: 0.1376\n",
            "Epoch 78/100\n",
            "53/53 - 1s - 27ms/step - accuracy: 0.8047 - loss: 0.1392 - val_accuracy: 0.8077 - val_loss: 0.1368\n",
            "Epoch 79/100\n",
            "53/53 - 3s - 48ms/step - accuracy: 0.8048 - loss: 0.1387 - val_accuracy: 0.8068 - val_loss: 0.1355\n",
            "Epoch 80/100\n",
            "53/53 - 3s - 49ms/step - accuracy: 0.8048 - loss: 0.1393 - val_accuracy: 0.8091 - val_loss: 0.1415\n",
            "Epoch 81/100\n",
            "53/53 - 2s - 47ms/step - accuracy: 0.8052 - loss: 0.1372 - val_accuracy: 0.8064 - val_loss: 0.1346\n",
            "Epoch 82/100\n",
            "53/53 - 1s - 27ms/step - accuracy: 0.8049 - loss: 0.1387 - val_accuracy: 0.8091 - val_loss: 0.1409\n",
            "Epoch 83/100\n",
            "53/53 - 1s - 27ms/step - accuracy: 0.8053 - loss: 0.1366 - val_accuracy: 0.8076 - val_loss: 0.1347\n",
            "Epoch 84/100\n",
            "53/53 - 1s - 27ms/step - accuracy: 0.8051 - loss: 0.1374 - val_accuracy: 0.8055 - val_loss: 0.1341\n",
            "Epoch 85/100\n",
            "53/53 - 1s - 27ms/step - accuracy: 0.8052 - loss: 0.1376 - val_accuracy: 0.8091 - val_loss: 0.1397\n",
            "Epoch 86/100\n",
            "53/53 - 1s - 27ms/step - accuracy: 0.8055 - loss: 0.1357 - val_accuracy: 0.8082 - val_loss: 0.1342\n",
            "Epoch 87/100\n",
            "53/53 - 1s - 27ms/step - accuracy: 0.8053 - loss: 0.1365 - val_accuracy: 0.8080 - val_loss: 0.1337\n",
            "Epoch 88/100\n",
            "53/53 - 1s - 28ms/step - accuracy: 0.8055 - loss: 0.1360 - val_accuracy: 0.8063 - val_loss: 0.1327\n",
            "Epoch 89/100\n",
            "53/53 - 2s - 47ms/step - accuracy: 0.8055 - loss: 0.1364 - val_accuracy: 0.8092 - val_loss: 0.1386\n",
            "Epoch 90/100\n",
            "53/53 - 3s - 48ms/step - accuracy: 0.8058 - loss: 0.1346 - val_accuracy: 0.8077 - val_loss: 0.1320\n",
            "Epoch 91/100\n",
            "53/53 - 1s - 26ms/step - accuracy: 0.8056 - loss: 0.1356 - val_accuracy: 0.8051 - val_loss: 0.1328\n",
            "Epoch 92/100\n",
            "53/53 - 1s - 26ms/step - accuracy: 0.8057 - loss: 0.1354 - val_accuracy: 0.8092 - val_loss: 0.1371\n",
            "Epoch 93/100\n",
            "53/53 - 1s - 26ms/step - accuracy: 0.8060 - loss: 0.1336 - val_accuracy: 0.8077 - val_loss: 0.1310\n",
            "Epoch 94/100\n",
            "53/53 - 3s - 49ms/step - accuracy: 0.8057 - loss: 0.1349 - val_accuracy: 0.8051 - val_loss: 0.1322\n",
            "Epoch 95/100\n",
            "53/53 - 1s - 28ms/step - accuracy: 0.8059 - loss: 0.1346 - val_accuracy: 0.8093 - val_loss: 0.1360\n",
            "Epoch 96/100\n",
            "53/53 - 2s - 47ms/step - accuracy: 0.8061 - loss: 0.1328 - val_accuracy: 0.8076 - val_loss: 0.1301\n",
            "Epoch 97/100\n",
            "53/53 - 1s - 27ms/step - accuracy: 0.8059 - loss: 0.1339 - val_accuracy: 0.8050 - val_loss: 0.1316\n",
            "Epoch 98/100\n",
            "53/53 - 1s - 27ms/step - accuracy: 0.8060 - loss: 0.1339 - val_accuracy: 0.8094 - val_loss: 0.1353\n",
            "Epoch 99/100\n",
            "53/53 - 1s - 27ms/step - accuracy: 0.8063 - loss: 0.1321 - val_accuracy: 0.8073 - val_loss: 0.1294\n",
            "Epoch 100/100\n",
            "53/53 - 3s - 48ms/step - accuracy: 0.8061 - loss: 0.1334 - val_accuracy: 0.8096 - val_loss: 0.1341\n",
            "Training took 221.43094658851624 Seconds : \n"
          ]
        }
      ]
    },
    {
      "cell_type": "code",
      "source": [
        "#predicting using both encoder and decoder together\n",
        "\n",
        "decoded_imgs = Ae_Conv.predict(x_test)\n",
        "print(\"Recreated img rep of shape {} using decodeer and reduced img rep using encoder.\")\n",
        "\n",
        "n=10\n",
        "k=12 # multiplier\n",
        "plt.figure(figsize=(20,4))\n",
        "for i in range(n):\n",
        "    ax=plt.subplot(2,n,i+1)\n",
        "    plt.imshow(x_test[i*k].reshape(28,28))\n",
        "    plt.gray()\n",
        "    ax.get_xaxis().set_visible(False)\n",
        "    ax.get_yaxis().set_visible(False)\n",
        "\n",
        "\n",
        "    #displaying reconstruction\n",
        "    ax=plt.subplot(2 ,n , i+1+n)\n",
        "    plt.imshow(decoded_imgs[i*k].reshape(28,28))\n",
        "    plt.gray()\n",
        "    ax.get_xaxis().set_visible(False)\n",
        "    ax.get_yaxis().set_visible(False)\n",
        "plt.show()"
      ],
      "metadata": {
        "colab": {
          "base_uri": "https://localhost:8080/",
          "height": 318
        },
        "id": "Ok9uFbRJEfUT",
        "outputId": "2de461ce-b74f-41c0-8c15-18e227116a26"
      },
      "execution_count": 17,
      "outputs": [
        {
          "output_type": "stream",
          "name": "stdout",
          "text": [
            "\u001b[1m313/313\u001b[0m \u001b[32m━━━━━━━━━━━━━━━━━━━━\u001b[0m\u001b[37m\u001b[0m \u001b[1m2s\u001b[0m 4ms/step\n",
            "Recreated img rep of shape {} using decodeer and reduced img rep using encoder.\n"
          ]
        },
        {
          "output_type": "display_data",
          "data": {
            "text/plain": [
              "<Figure size 2000x400 with 20 Axes>"
            ],
            "image/png": "[encoded data removed]"
          },
          "metadata": {}
        }
      ]
    },
    {
      "cell_type": "markdown",
      "source": [
        "The images are regenerated pretty well but its not trained that complex sothey are noisy , hyperparameter tuning will make it much better\n"
      ],
      "metadata": {
        "id": "XRdXysuCJLUa"
      }
    },
    {
      "cell_type": "code",
      "source": [
        "# you can use encoder and decoder seperately by accessing their layers individually\n",
        "'''\n",
        "#Encoder:\n",
        "ae_conv_encoder = Model(inputs=input_layer_cnv, outputs=Ae_Conv.get_layer('bot').output, name='AE_Conv_encoder') #calling layer by name 'bot'\n",
        "ae_conv_encoder.summary()\n",
        "\n",
        "#Decoder:\n",
        "encdoe_inp_cnv = Input(shape = (64,)) #giving input to decoder as encoded data\n",
        "tmp_dec = Ae_Conv.get_layer('botnext0')(encdoe_inp_cnv)\n",
        "for i in range(1,8): # accessing layer 1 to 8 via loop\n",
        "  st='botnext{}'.format(i)\n",
        "  tmp_dec = Ae_Conv.get_layer(st)(tmp_dec)\n",
        "\n",
        "ae_conv_decoder = Model(inputs=encdoe_inp_cnv, outputs=tmp_dec, name = 'AE_Conv_decoder')\n",
        "ae_conv_decoder.summary()\n",
        "'''\n",
        "\n",
        "#we can use them now without need to train them , and we can use e&d representations with any other classifier after them for a specific purpose"
      ],
      "metadata": {
        "id": "V8Gwzhi5JlFG"
      },
      "execution_count": null,
      "outputs": []
    },
    {
      "cell_type": "markdown",
      "source": [
        "**Denoising AE**\n",
        "\n",
        "Here difference is the data, we need noisy data , we'll add noise to the data"
      ],
      "metadata": {
        "id": "PyxeIPqALz84"
      }
    },
    {
      "cell_type": "code",
      "source": [
        "print(x_train.shape)\n",
        "print(x_test.shape)"
      ],
      "metadata": {
        "colab": {
          "base_uri": "https://localhost:8080/"
        },
        "id": "6z8fG-MIMAwO",
        "outputId": "4c7e0b99-aa33-42ad-ed73-21fca3738795"
      },
      "execution_count": 18,
      "outputs": [
        {
          "output_type": "stream",
          "name": "stdout",
          "text": [
            "(60000, 28, 28, 1)\n",
            "(10000, 28, 28, 1)\n"
          ]
        }
      ]
    },
    {
      "cell_type": "code",
      "source": [
        "#Adding noise to the data\n",
        "noise_factor = 0.5 #adding noise to test,train using numpy random function\n",
        "x_train_noisy = x_train + noise_factor * np.random.normal(loc=0.0, scale=1.0, size=x_train.shape)\n",
        "x_test_noisy = x_test + noise_factor * np.random.normal(loc=0.0, scale=1.0, size=x_test.shape)\n",
        "\n",
        "x_train_noisy = np.clip(x_train_noisy, 0., 1.)\n",
        "x_test_noisy = np.clip(x_test_noisy, 0., 1.)\n",
        "\n",
        "print(x_train_noisy.shape)\n",
        "print(x_test_noisy.shape)"
      ],
      "metadata": {
        "colab": {
          "base_uri": "https://localhost:8080/"
        },
        "id": "BNqChd6KMIAW",
        "outputId": "289adc11-7cc1-428f-d0a1-bc9bbf20adf7"
      },
      "execution_count": 19,
      "outputs": [
        {
          "output_type": "stream",
          "name": "stdout",
          "text": [
            "(60000, 28, 28, 1)\n",
            "(10000, 28, 28, 1)\n"
          ]
        }
      ]
    },
    {
      "cell_type": "markdown",
      "source": [
        "**Line-by-Line Explanation:**\n",
        "\n",
        "**1. `noise_factor = 0.5`**\n",
        "   - This line defines a variable `noise_factor` and assigns it a value of 0.5. This factor will be used to control the intensity of the noise added to the training and testing data.\n",
        "\n",
        "**2. `x_train_noisy = x_train + noise_factor * np.random.normal(loc=0.0, scale=1.0, size=x_train.shape)`**\n",
        "   - This line adds noise to the training data `x_train`.\n",
        "     - `np.random.normal(loc=0.0, scale=1.0, size=x_train.shape)`: This part generates random noise with a mean of 0 and a standard deviation of 1. The `size` parameter ensures that the noise has the same shape as the `x_train` data.\n",
        "     - `noise_factor * ...`: This scales the generated noise by the `noise_factor` (0.5 in this case).\n",
        "     - `x_train + ...`: The scaled noise is added to the original training data `x_train`.\n",
        "\n",
        "**3. `x_test_noisy = x_test + noise_factor * np.random.normal(loc=0.0, scale=1.0, size=x_test.shape)`**\n",
        "   - This line is similar to the previous one but adds noise to the testing data `x_test`.\n",
        "\n",
        "**4. `x_train_noisy = np.clip(x_train_noisy, 0., 1.)`**\n",
        "   - This line clips the values in `x_train_noisy` to the range [0, 1]. This ensures that the pixel values of the images remain within the valid range, preventing potential issues during training or prediction.\n",
        "\n",
        "**5. `x_test_noisy = np.clip(x_test_noisy, 0., 1.)`**\n",
        "   - This line does the same clipping operation for the `x_test_noisy` data.\n",
        "\n",
        "**6. `print(x_train_noisy.shape)`**\n",
        "   - This line prints the shape of the `x_train_noisy` array, which will be the same as the original `x_train` array.\n",
        "\n",
        "**7. `print(x_test_noisy.shape)`**\n",
        "   - This line prints the shape of the `x_test_noisy` array, which will be the same as the original `x_test` array.\n",
        "\n",
        "\n"
      ],
      "metadata": {
        "id": "PwRi5NFOMr07"
      }
    },
    {
      "cell_type": "code",
      "source": [
        "#Displaying noisy data\n",
        "\n",
        "n=10\n",
        "plt.figure(figsize=(20,4))\n",
        "for i in range(n):\n",
        "    ax=plt.subplot(1,n,i+1)\n",
        "    plt.imshow(x_train_noisy[i].reshape(28,28))\n",
        "    plt.gray()\n",
        "    ax.get_xaxis().set_visible(False)\n",
        "    ax.get_yaxis().set_visible(False)\n",
        "plt.show()\n",
        "plt.close()"
      ],
      "metadata": {
        "colab": {
          "base_uri": "https://localhost:8080/",
          "height": 142
        },
        "id": "dzXdmJGGMuYj",
        "outputId": "e4f8b492-c607-4e6d-c9a8-11917ca289b2"
      },
      "execution_count": 20,
      "outputs": [
        {
          "output_type": "display_data",
          "data": {
            "text/plain": [
              "<Figure size 2000x400 with 10 Axes>"
            ],
            "image/png": "[encoded data removed]"
          },
          "metadata": {}
        }
      ]
    },
    {
      "cell_type": "markdown",
      "source": [
        "**Architecture [exactly as above]**"
      ],
      "metadata": {
        "id": "1Hw3T4B1NKkT"
      }
    },
    {
      "cell_type": "code",
      "source": [
        "input_layer_cnv = Input(shape=(28,28,1)) #input of AE , img\n",
        "\n",
        "#Encoder , 32 : num of filter , decrease in encoder as compressing\n",
        "ae_cnv_en = Conv2D(32, (3,3), activation='relu', padding='same', kernel_initializer='he_normal')(input_layer_cnv) #end is input for that layer\n",
        "ae_cnv_en = MaxPooling2D((2,2), padding='same')(ae_cnv_en) #input for this layer\n",
        "\n",
        "ae_cnv_en = Conv2D(32, (3,3), activation='relu', padding='same', kernel_initializer='he_normal')(ae_cnv_en) #end is input for that layer\n",
        "ae_cnv_en = MaxPooling2D((2,2), padding='same')(ae_cnv_en) #input for this layer\n",
        "\n",
        "ae_cnv_en = Conv2D(4, (3,3), activation='relu', padding='same', kernel_initializer='he_normal')(ae_cnv_en) #end is input for that layer\n",
        "ae_cnv_en = MaxPooling2D((2,2), padding='same')(ae_cnv_en) #input for this layer\n",
        "\n",
        "ae_cnv_en = Flatten(name='bot')(ae_cnv_en) #compressing / flattening the encoded data , bot as in bottleneck is name of the layer\n",
        "#naming layers is useful, we can call it by name just to use that specific layer\n",
        "\n",
        "#Decoder\n",
        "#(4,4,4) means dim of decoder, 4x4x4=64 mastches the input_img_shape, as convo layer takes 2-D form not flatten form\n",
        "ae_cnv_de = Reshape((4,4,4), input_shape = (64,), name= \"botnext0\")(ae_cnv_en) #input for this layer\n",
        "ae_cnv_de = Conv2D(4, (3,3), activation='relu', padding='same', name = \"botnext1\")(ae_cnv_de)\n",
        "ae_cnv_de = UpSampling2D((2,2), name = \"botnext2\")(ae_cnv_de)\n",
        "\n",
        "#number of filters are increasing here as upsampling, decoding\n",
        "ae_cnv_de = Conv2D(32, (3,3), activation='relu', padding='same', name = \"botnext3\")(ae_cnv_de) #giving prev layer as input of this layer\n",
        "ae_cnv_de = UpSampling2D((2,2), name = \"botnext4\")(ae_cnv_de)\n",
        "\n",
        "ae_cnv_de = Conv2D(32, (3,3), activation='relu', padding='valid', name = \"botnext5\")(ae_cnv_de)\n",
        "ae_cnv_de = UpSampling2D((2,2), name = \"botnext6\")(ae_cnv_de)\n",
        "\n",
        "#output layer definition\n",
        "ae_cnv_de = Conv2D(1, (3,3), activation='sigmoid', padding='same', name = \"botnext7\")(ae_cnv_de) # using sigmoid for yes, no, either same img generated or not\n",
        "Ae_Conv_denoise = Model(inputs = input_layer_cnv, outputs = ae_cnv_de) # defining model\n",
        "\n",
        "#comiling model , 0.09 is learning rate , clip value is\n",
        "Ae_Conv_denoise.compile(optimizer=tf.keras.optimizers.SGD(0.09, clipvalue=2.5), loss='binary_crossentropy', metrics=['accuracy'])\n",
        "\n",
        "Ae_Conv_denoise.summary()"
      ],
      "metadata": {
        "colab": {
          "base_uri": "https://localhost:8080/",
          "height": 697
        },
        "id": "AvOWK-dtNQE9",
        "outputId": "e8e032f7-4451-4271-9118-b85e19d25f9f"
      },
      "execution_count": 22,
      "outputs": [
        {
          "output_type": "stream",
          "name": "stderr",
          "text": [
            "/usr/local/lib/python3.10/dist-packages/keras/src/layers/reshaping/reshape.py:39: UserWarning: Do not pass an `input_shape`/`input_dim` argument to a layer. When using Sequential models, prefer using an `Input(shape)` object as the first layer in the model instead.\n",
            "  super().__init__(**kwargs)\n"
          ]
        },
        {
          "output_type": "display_data",
          "data": {
            "text/plain": [
              "\u001b[1mModel: \"functional_3\"\u001b[0m\n"
            ],
            "text/html": [
              "<pre style=\"white-space:pre;overflow-x:auto;line-height:normal;font-family:Menlo,'DejaVu Sans Mono',consolas,'Courier New',monospace\"><span style=\"font-weight: bold\">Model: \"functional_3\"</span>\n",
              "</pre>\n"
            ]
          },
          "metadata": {}
        },
        {
          "output_type": "display_data",
          "data": {
            "text/plain": [
              "┏━━━━━━━━━━━━━━━━━━━━━━━━━━━━━━━━━━━━━━┳━━━━━━━━━━━━━━━━━━━━━━━━━━━━━┳━━━━━━━━━━━━━━━━━┓\n",
              "┃\u001b[1m \u001b[0m\u001b[1mLayer (type)                        \u001b[0m\u001b[1m \u001b[0m┃\u001b[1m \u001b[0m\u001b[1mOutput Shape               \u001b[0m\u001b[1m \u001b[0m┃\u001b[1m \u001b[0m\u001b[1m        Param #\u001b[0m\u001b[1m \u001b[0m┃\n",
              "┡━━━━━━━━━━━━━━━━━━━━━━━━━━━━━━━━━━━━━━╇━━━━━━━━━━━━━━━━━━━━━━━━━━━━━╇━━━━━━━━━━━━━━━━━┩\n",
              "│ input_layer_3 (\u001b[38;5;33mInputLayer\u001b[0m)           │ (\u001b[38;5;45mNone\u001b[0m, \u001b[38;5;34m28\u001b[0m, \u001b[38;5;34m28\u001b[0m, \u001b[38;5;34m1\u001b[0m)           │               \u001b[38;5;34m0\u001b[0m │\n",
              "├──────────────────────────────────────┼─────────────────────────────┼─────────────────┤\n",
              "│ conv2d_9 (\u001b[38;5;33mConv2D\u001b[0m)                    │ (\u001b[38;5;45mNone\u001b[0m, \u001b[38;5;34m28\u001b[0m, \u001b[38;5;34m28\u001b[0m, \u001b[38;5;34m32\u001b[0m)          │             \u001b[38;5;34m320\u001b[0m │\n",
              "├──────────────────────────────────────┼─────────────────────────────┼─────────────────┤\n",
              "│ max_pooling2d_9 (\u001b[38;5;33mMaxPooling2D\u001b[0m)       │ (\u001b[38;5;45mNone\u001b[0m, \u001b[38;5;34m14\u001b[0m, \u001b[38;5;34m14\u001b[0m, \u001b[38;5;34m32\u001b[0m)          │               \u001b[38;5;34m0\u001b[0m │\n",
              "├──────────────────────────────────────┼─────────────────────────────┼─────────────────┤\n",
              "│ conv2d_10 (\u001b[38;5;33mConv2D\u001b[0m)                   │ (\u001b[38;5;45mNone\u001b[0m, \u001b[38;5;34m14\u001b[0m, \u001b[38;5;34m14\u001b[0m, \u001b[38;5;34m32\u001b[0m)          │           \u001b[38;5;34m9,248\u001b[0m │\n",
              "├──────────────────────────────────────┼─────────────────────────────┼─────────────────┤\n",
              "│ max_pooling2d_10 (\u001b[38;5;33mMaxPooling2D\u001b[0m)      │ (\u001b[38;5;45mNone\u001b[0m, \u001b[38;5;34m7\u001b[0m, \u001b[38;5;34m7\u001b[0m, \u001b[38;5;34m32\u001b[0m)            │               \u001b[38;5;34m0\u001b[0m │\n",
              "├──────────────────────────────────────┼─────────────────────────────┼─────────────────┤\n",
              "│ conv2d_11 (\u001b[38;5;33mConv2D\u001b[0m)                   │ (\u001b[38;5;45mNone\u001b[0m, \u001b[38;5;34m7\u001b[0m, \u001b[38;5;34m7\u001b[0m, \u001b[38;5;34m4\u001b[0m)             │           \u001b[38;5;34m1,156\u001b[0m │\n",
              "├──────────────────────────────────────┼─────────────────────────────┼─────────────────┤\n",
              "│ max_pooling2d_11 (\u001b[38;5;33mMaxPooling2D\u001b[0m)      │ (\u001b[38;5;45mNone\u001b[0m, \u001b[38;5;34m4\u001b[0m, \u001b[38;5;34m4\u001b[0m, \u001b[38;5;34m4\u001b[0m)             │               \u001b[38;5;34m0\u001b[0m │\n",
              "├──────────────────────────────────────┼─────────────────────────────┼─────────────────┤\n",
              "│ bot (\u001b[38;5;33mFlatten\u001b[0m)                        │ (\u001b[38;5;45mNone\u001b[0m, \u001b[38;5;34m64\u001b[0m)                  │               \u001b[38;5;34m0\u001b[0m │\n",
              "├──────────────────────────────────────┼─────────────────────────────┼─────────────────┤\n",
              "│ botnext0 (\u001b[38;5;33mReshape\u001b[0m)                   │ (\u001b[38;5;45mNone\u001b[0m, \u001b[38;5;34m4\u001b[0m, \u001b[38;5;34m4\u001b[0m, \u001b[38;5;34m4\u001b[0m)             │               \u001b[38;5;34m0\u001b[0m │\n",
              "├──────────────────────────────────────┼─────────────────────────────┼─────────────────┤\n",
              "│ botnext1 (\u001b[38;5;33mConv2D\u001b[0m)                    │ (\u001b[38;5;45mNone\u001b[0m, \u001b[38;5;34m4\u001b[0m, \u001b[38;5;34m4\u001b[0m, \u001b[38;5;34m4\u001b[0m)             │             \u001b[38;5;34m148\u001b[0m │\n",
              "├──────────────────────────────────────┼─────────────────────────────┼─────────────────┤\n",
              "│ botnext2 (\u001b[38;5;33mUpSampling2D\u001b[0m)              │ (\u001b[38;5;45mNone\u001b[0m, \u001b[38;5;34m8\u001b[0m, \u001b[38;5;34m8\u001b[0m, \u001b[38;5;34m4\u001b[0m)             │               \u001b[38;5;34m0\u001b[0m │\n",
              "├──────────────────────────────────────┼─────────────────────────────┼─────────────────┤\n",
              "│ botnext3 (\u001b[38;5;33mConv2D\u001b[0m)                    │ (\u001b[38;5;45mNone\u001b[0m, \u001b[38;5;34m8\u001b[0m, \u001b[38;5;34m8\u001b[0m, \u001b[38;5;34m32\u001b[0m)            │           \u001b[38;5;34m1,184\u001b[0m │\n",
              "├──────────────────────────────────────┼─────────────────────────────┼─────────────────┤\n",
              "│ botnext4 (\u001b[38;5;33mUpSampling2D\u001b[0m)              │ (\u001b[38;5;45mNone\u001b[0m, \u001b[38;5;34m16\u001b[0m, \u001b[38;5;34m16\u001b[0m, \u001b[38;5;34m32\u001b[0m)          │               \u001b[38;5;34m0\u001b[0m │\n",
              "├──────────────────────────────────────┼─────────────────────────────┼─────────────────┤\n",
              "│ botnext5 (\u001b[38;5;33mConv2D\u001b[0m)                    │ (\u001b[38;5;45mNone\u001b[0m, \u001b[38;5;34m14\u001b[0m, \u001b[38;5;34m14\u001b[0m, \u001b[38;5;34m32\u001b[0m)          │           \u001b[38;5;34m9,248\u001b[0m │\n",
              "├──────────────────────────────────────┼─────────────────────────────┼─────────────────┤\n",
              "│ botnext6 (\u001b[38;5;33mUpSampling2D\u001b[0m)              │ (\u001b[38;5;45mNone\u001b[0m, \u001b[38;5;34m28\u001b[0m, \u001b[38;5;34m28\u001b[0m, \u001b[38;5;34m32\u001b[0m)          │               \u001b[38;5;34m0\u001b[0m │\n",
              "├──────────────────────────────────────┼─────────────────────────────┼─────────────────┤\n",
              "│ botnext7 (\u001b[38;5;33mConv2D\u001b[0m)                    │ (\u001b[38;5;45mNone\u001b[0m, \u001b[38;5;34m28\u001b[0m, \u001b[38;5;34m28\u001b[0m, \u001b[38;5;34m1\u001b[0m)           │             \u001b[38;5;34m289\u001b[0m │\n",
              "└──────────────────────────────────────┴─────────────────────────────┴─────────────────┘\n"
            ],
            "text/html": [
              "<pre style=\"white-space:pre;overflow-x:auto;line-height:normal;font-family:Menlo,'DejaVu Sans Mono',consolas,'Courier New',monospace\">┏━━━━━━━━━━━━━━━━━━━━━━━━━━━━━━━━━━━━━━┳━━━━━━━━━━━━━━━━━━━━━━━━━━━━━┳━━━━━━━━━━━━━━━━━┓\n",
              "┃<span style=\"font-weight: bold\"> Layer (type)                         </span>┃<span style=\"font-weight: bold\"> Output Shape                </span>┃<span style=\"font-weight: bold\">         Param # </span>┃\n",
              "┡━━━━━━━━━━━━━━━━━━━━━━━━━━━━━━━━━━━━━━╇━━━━━━━━━━━━━━━━━━━━━━━━━━━━━╇━━━━━━━━━━━━━━━━━┩\n",
              "│ input_layer_3 (<span style=\"color: #0087ff; text-decoration-color: #0087ff\">InputLayer</span>)           │ (<span style=\"color: #00d7ff; text-decoration-color: #00d7ff\">None</span>, <span style=\"color: #00af00; text-decoration-color: #00af00\">28</span>, <span style=\"color: #00af00; text-decoration-color: #00af00\">28</span>, <span style=\"color: #00af00; text-decoration-color: #00af00\">1</span>)           │               <span style=\"color: #00af00; text-decoration-color: #00af00\">0</span> │\n",
              "├──────────────────────────────────────┼─────────────────────────────┼─────────────────┤\n",
              "│ conv2d_9 (<span style=\"color: #0087ff; text-decoration-color: #0087ff\">Conv2D</span>)                    │ (<span style=\"color: #00d7ff; text-decoration-color: #00d7ff\">None</span>, <span style=\"color: #00af00; text-decoration-color: #00af00\">28</span>, <span style=\"color: #00af00; text-decoration-color: #00af00\">28</span>, <span style=\"color: #00af00; text-decoration-color: #00af00\">32</span>)          │             <span style=\"color: #00af00; text-decoration-color: #00af00\">320</span> │\n",
              "├──────────────────────────────────────┼─────────────────────────────┼─────────────────┤\n",
              "│ max_pooling2d_9 (<span style=\"color: #0087ff; text-decoration-color: #0087ff\">MaxPooling2D</span>)       │ (<span style=\"color: #00d7ff; text-decoration-color: #00d7ff\">None</span>, <span style=\"color: #00af00; text-decoration-color: #00af00\">14</span>, <span style=\"color: #00af00; text-decoration-color: #00af00\">14</span>, <span style=\"color: #00af00; text-decoration-color: #00af00\">32</span>)          │               <span style=\"color: #00af00; text-decoration-color: #00af00\">0</span> │\n",
              "├──────────────────────────────────────┼─────────────────────────────┼─────────────────┤\n",
              "│ conv2d_10 (<span style=\"color: #0087ff; text-decoration-color: #0087ff\">Conv2D</span>)                   │ (<span style=\"color: #00d7ff; text-decoration-color: #00d7ff\">None</span>, <span style=\"color: #00af00; text-decoration-color: #00af00\">14</span>, <span style=\"color: #00af00; text-decoration-color: #00af00\">14</span>, <span style=\"color: #00af00; text-decoration-color: #00af00\">32</span>)          │           <span style=\"color: #00af00; text-decoration-color: #00af00\">9,248</span> │\n",
              "├──────────────────────────────────────┼─────────────────────────────┼─────────────────┤\n",
              "│ max_pooling2d_10 (<span style=\"color: #0087ff; text-decoration-color: #0087ff\">MaxPooling2D</span>)      │ (<span style=\"color: #00d7ff; text-decoration-color: #00d7ff\">None</span>, <span style=\"color: #00af00; text-decoration-color: #00af00\">7</span>, <span style=\"color: #00af00; text-decoration-color: #00af00\">7</span>, <span style=\"color: #00af00; text-decoration-color: #00af00\">32</span>)            │               <span style=\"color: #00af00; text-decoration-color: #00af00\">0</span> │\n",
              "├──────────────────────────────────────┼─────────────────────────────┼─────────────────┤\n",
              "│ conv2d_11 (<span style=\"color: #0087ff; text-decoration-color: #0087ff\">Conv2D</span>)                   │ (<span style=\"color: #00d7ff; text-decoration-color: #00d7ff\">None</span>, <span style=\"color: #00af00; text-decoration-color: #00af00\">7</span>, <span style=\"color: #00af00; text-decoration-color: #00af00\">7</span>, <span style=\"color: #00af00; text-decoration-color: #00af00\">4</span>)             │           <span style=\"color: #00af00; text-decoration-color: #00af00\">1,156</span> │\n",
              "├──────────────────────────────────────┼─────────────────────────────┼─────────────────┤\n",
              "│ max_pooling2d_11 (<span style=\"color: #0087ff; text-decoration-color: #0087ff\">MaxPooling2D</span>)      │ (<span style=\"color: #00d7ff; text-decoration-color: #00d7ff\">None</span>, <span style=\"color: #00af00; text-decoration-color: #00af00\">4</span>, <span style=\"color: #00af00; text-decoration-color: #00af00\">4</span>, <span style=\"color: #00af00; text-decoration-color: #00af00\">4</span>)             │               <span style=\"color: #00af00; text-decoration-color: #00af00\">0</span> │\n",
              "├──────────────────────────────────────┼─────────────────────────────┼─────────────────┤\n",
              "│ bot (<span style=\"color: #0087ff; text-decoration-color: #0087ff\">Flatten</span>)                        │ (<span style=\"color: #00d7ff; text-decoration-color: #00d7ff\">None</span>, <span style=\"color: #00af00; text-decoration-color: #00af00\">64</span>)                  │               <span style=\"color: #00af00; text-decoration-color: #00af00\">0</span> │\n",
              "├──────────────────────────────────────┼─────────────────────────────┼─────────────────┤\n",
              "│ botnext0 (<span style=\"color: #0087ff; text-decoration-color: #0087ff\">Reshape</span>)                   │ (<span style=\"color: #00d7ff; text-decoration-color: #00d7ff\">None</span>, <span style=\"color: #00af00; text-decoration-color: #00af00\">4</span>, <span style=\"color: #00af00; text-decoration-color: #00af00\">4</span>, <span style=\"color: #00af00; text-decoration-color: #00af00\">4</span>)             │               <span style=\"color: #00af00; text-decoration-color: #00af00\">0</span> │\n",
              "├──────────────────────────────────────┼─────────────────────────────┼─────────────────┤\n",
              "│ botnext1 (<span style=\"color: #0087ff; text-decoration-color: #0087ff\">Conv2D</span>)                    │ (<span style=\"color: #00d7ff; text-decoration-color: #00d7ff\">None</span>, <span style=\"color: #00af00; text-decoration-color: #00af00\">4</span>, <span style=\"color: #00af00; text-decoration-color: #00af00\">4</span>, <span style=\"color: #00af00; text-decoration-color: #00af00\">4</span>)             │             <span style=\"color: #00af00; text-decoration-color: #00af00\">148</span> │\n",
              "├──────────────────────────────────────┼─────────────────────────────┼─────────────────┤\n",
              "│ botnext2 (<span style=\"color: #0087ff; text-decoration-color: #0087ff\">UpSampling2D</span>)              │ (<span style=\"color: #00d7ff; text-decoration-color: #00d7ff\">None</span>, <span style=\"color: #00af00; text-decoration-color: #00af00\">8</span>, <span style=\"color: #00af00; text-decoration-color: #00af00\">8</span>, <span style=\"color: #00af00; text-decoration-color: #00af00\">4</span>)             │               <span style=\"color: #00af00; text-decoration-color: #00af00\">0</span> │\n",
              "├──────────────────────────────────────┼─────────────────────────────┼─────────────────┤\n",
              "│ botnext3 (<span style=\"color: #0087ff; text-decoration-color: #0087ff\">Conv2D</span>)                    │ (<span style=\"color: #00d7ff; text-decoration-color: #00d7ff\">None</span>, <span style=\"color: #00af00; text-decoration-color: #00af00\">8</span>, <span style=\"color: #00af00; text-decoration-color: #00af00\">8</span>, <span style=\"color: #00af00; text-decoration-color: #00af00\">32</span>)            │           <span style=\"color: #00af00; text-decoration-color: #00af00\">1,184</span> │\n",
              "├──────────────────────────────────────┼─────────────────────────────┼─────────────────┤\n",
              "│ botnext4 (<span style=\"color: #0087ff; text-decoration-color: #0087ff\">UpSampling2D</span>)              │ (<span style=\"color: #00d7ff; text-decoration-color: #00d7ff\">None</span>, <span style=\"color: #00af00; text-decoration-color: #00af00\">16</span>, <span style=\"color: #00af00; text-decoration-color: #00af00\">16</span>, <span style=\"color: #00af00; text-decoration-color: #00af00\">32</span>)          │               <span style=\"color: #00af00; text-decoration-color: #00af00\">0</span> │\n",
              "├──────────────────────────────────────┼─────────────────────────────┼─────────────────┤\n",
              "│ botnext5 (<span style=\"color: #0087ff; text-decoration-color: #0087ff\">Conv2D</span>)                    │ (<span style=\"color: #00d7ff; text-decoration-color: #00d7ff\">None</span>, <span style=\"color: #00af00; text-decoration-color: #00af00\">14</span>, <span style=\"color: #00af00; text-decoration-color: #00af00\">14</span>, <span style=\"color: #00af00; text-decoration-color: #00af00\">32</span>)          │           <span style=\"color: #00af00; text-decoration-color: #00af00\">9,248</span> │\n",
              "├──────────────────────────────────────┼─────────────────────────────┼─────────────────┤\n",
              "│ botnext6 (<span style=\"color: #0087ff; text-decoration-color: #0087ff\">UpSampling2D</span>)              │ (<span style=\"color: #00d7ff; text-decoration-color: #00d7ff\">None</span>, <span style=\"color: #00af00; text-decoration-color: #00af00\">28</span>, <span style=\"color: #00af00; text-decoration-color: #00af00\">28</span>, <span style=\"color: #00af00; text-decoration-color: #00af00\">32</span>)          │               <span style=\"color: #00af00; text-decoration-color: #00af00\">0</span> │\n",
              "├──────────────────────────────────────┼─────────────────────────────┼─────────────────┤\n",
              "│ botnext7 (<span style=\"color: #0087ff; text-decoration-color: #0087ff\">Conv2D</span>)                    │ (<span style=\"color: #00d7ff; text-decoration-color: #00d7ff\">None</span>, <span style=\"color: #00af00; text-decoration-color: #00af00\">28</span>, <span style=\"color: #00af00; text-decoration-color: #00af00\">28</span>, <span style=\"color: #00af00; text-decoration-color: #00af00\">1</span>)           │             <span style=\"color: #00af00; text-decoration-color: #00af00\">289</span> │\n",
              "└──────────────────────────────────────┴─────────────────────────────┴─────────────────┘\n",
              "</pre>\n"
            ]
          },
          "metadata": {}
        },
        {
          "output_type": "display_data",
          "data": {
            "text/plain": [
              "\u001b[1m Total params: \u001b[0m\u001b[38;5;34m21,593\u001b[0m (84.35 KB)\n"
            ],
            "text/html": [
              "<pre style=\"white-space:pre;overflow-x:auto;line-height:normal;font-family:Menlo,'DejaVu Sans Mono',consolas,'Courier New',monospace\"><span style=\"font-weight: bold\"> Total params: </span><span style=\"color: #00af00; text-decoration-color: #00af00\">21,593</span> (84.35 KB)\n",
              "</pre>\n"
            ]
          },
          "metadata": {}
        },
        {
          "output_type": "display_data",
          "data": {
            "text/plain": [
              "\u001b[1m Trainable params: \u001b[0m\u001b[38;5;34m21,593\u001b[0m (84.35 KB)\n"
            ],
            "text/html": [
              "<pre style=\"white-space:pre;overflow-x:auto;line-height:normal;font-family:Menlo,'DejaVu Sans Mono',consolas,'Courier New',monospace\"><span style=\"font-weight: bold\"> Trainable params: </span><span style=\"color: #00af00; text-decoration-color: #00af00\">21,593</span> (84.35 KB)\n",
              "</pre>\n"
            ]
          },
          "metadata": {}
        },
        {
          "output_type": "display_data",
          "data": {
            "text/plain": [
              "\u001b[1m Non-trainable params: \u001b[0m\u001b[38;5;34m0\u001b[0m (0.00 B)\n"
            ],
            "text/html": [
              "<pre style=\"white-space:pre;overflow-x:auto;line-height:normal;font-family:Menlo,'DejaVu Sans Mono',consolas,'Courier New',monospace\"><span style=\"font-weight: bold\"> Non-trainable params: </span><span style=\"color: #00af00; text-decoration-color: #00af00\">0</span> (0.00 B)\n",
              "</pre>\n"
            ]
          },
          "metadata": {}
        }
      ]
    },
    {
      "cell_type": "code",
      "source": [
        "#training DAE\n",
        "\n",
        "from time import time\n",
        "tic = time()\n",
        "Ae_Conv_denoise.fit(x_train_noisy, x_train, #input is noisy data and for loss comparison actual clean data\n",
        "            epochs=100,\n",
        "            verbose=2,\n",
        "            batch_size=256,\n",
        "            shuffle=False, validation_split=0.1)\n",
        "toc=time()\n",
        "print(\"Training took {} Seconds\".format(toc-tic))"
      ],
      "metadata": {
        "colab": {
          "base_uri": "https://localhost:8080/"
        },
        "id": "cD7l2zUtNV9K",
        "outputId": "9123406b-2f0c-4073-d5c4-91992da0fe79"
      },
      "execution_count": 23,
      "outputs": [
        {
          "output_type": "stream",
          "name": "stdout",
          "text": [
            "Epoch 1/100\n",
            "211/211 - 9s - 42ms/step - accuracy: 0.7941 - loss: 0.2843 - val_accuracy: 0.8026 - val_loss: 0.2455\n",
            "Epoch 2/100\n",
            "211/211 - 4s - 20ms/step - accuracy: 0.7933 - loss: 0.2372 - val_accuracy: 0.7936 - val_loss: 0.2264\n",
            "Epoch 3/100\n",
            "211/211 - 2s - 12ms/step - accuracy: 0.7919 - loss: 0.2243 - val_accuracy: 0.7975 - val_loss: 0.2191\n",
            "Epoch 4/100\n",
            "211/211 - 2s - 9ms/step - accuracy: 0.7920 - loss: 0.2156 - val_accuracy: 0.7965 - val_loss: 0.2091\n",
            "Epoch 5/100\n",
            "211/211 - 2s - 11ms/step - accuracy: 0.7932 - loss: 0.2066 - val_accuracy: 0.7963 - val_loss: 0.1996\n",
            "Epoch 6/100\n",
            "211/211 - 3s - 12ms/step - accuracy: 0.7945 - loss: 0.1985 - val_accuracy: 0.7971 - val_loss: 0.1924\n",
            "Epoch 7/100\n",
            "211/211 - 2s - 8ms/step - accuracy: 0.7958 - loss: 0.1920 - val_accuracy: 0.7979 - val_loss: 0.1864\n",
            "Epoch 8/100\n",
            "211/211 - 3s - 12ms/step - accuracy: 0.7968 - loss: 0.1869 - val_accuracy: 0.7986 - val_loss: 0.1820\n",
            "Epoch 9/100\n",
            "211/211 - 3s - 13ms/step - accuracy: 0.7976 - loss: 0.1830 - val_accuracy: 0.7994 - val_loss: 0.1785\n",
            "Epoch 10/100\n",
            "211/211 - 2s - 8ms/step - accuracy: 0.7983 - loss: 0.1797 - val_accuracy: 0.7999 - val_loss: 0.1758\n",
            "Epoch 11/100\n",
            "211/211 - 2s - 8ms/step - accuracy: 0.7989 - loss: 0.1769 - val_accuracy: 0.8003 - val_loss: 0.1735\n",
            "Epoch 12/100\n",
            "211/211 - 2s - 8ms/step - accuracy: 0.7994 - loss: 0.1746 - val_accuracy: 0.8007 - val_loss: 0.1719\n",
            "Epoch 13/100\n",
            "211/211 - 3s - 12ms/step - accuracy: 0.7999 - loss: 0.1725 - val_accuracy: 0.8009 - val_loss: 0.1704\n",
            "Epoch 14/100\n",
            "211/211 - 2s - 12ms/step - accuracy: 0.8002 - loss: 0.1710 - val_accuracy: 0.8004 - val_loss: 0.1684\n",
            "Epoch 15/100\n",
            "211/211 - 2s - 11ms/step - accuracy: 0.8006 - loss: 0.1696 - val_accuracy: 0.8009 - val_loss: 0.1670\n",
            "Epoch 16/100\n",
            "211/211 - 3s - 14ms/step - accuracy: 0.8009 - loss: 0.1683 - val_accuracy: 0.8014 - val_loss: 0.1657\n",
            "Epoch 17/100\n",
            "211/211 - 4s - 18ms/step - accuracy: 0.8012 - loss: 0.1671 - val_accuracy: 0.8017 - val_loss: 0.1646\n",
            "Epoch 18/100\n",
            "211/211 - 2s - 8ms/step - accuracy: 0.8014 - loss: 0.1661 - val_accuracy: 0.8019 - val_loss: 0.1636\n",
            "Epoch 19/100\n",
            "211/211 - 3s - 12ms/step - accuracy: 0.8017 - loss: 0.1651 - val_accuracy: 0.8021 - val_loss: 0.1628\n",
            "Epoch 20/100\n",
            "211/211 - 2s - 8ms/step - accuracy: 0.8019 - loss: 0.1642 - val_accuracy: 0.8022 - val_loss: 0.1618\n",
            "Epoch 21/100\n",
            "211/211 - 2s - 9ms/step - accuracy: 0.8020 - loss: 0.1633 - val_accuracy: 0.8023 - val_loss: 0.1611\n",
            "Epoch 22/100\n",
            "211/211 - 2s - 11ms/step - accuracy: 0.8022 - loss: 0.1625 - val_accuracy: 0.8025 - val_loss: 0.1603\n",
            "Epoch 23/100\n",
            "211/211 - 2s - 8ms/step - accuracy: 0.8024 - loss: 0.1617 - val_accuracy: 0.8026 - val_loss: 0.1595\n",
            "Epoch 24/100\n",
            "211/211 - 2s - 8ms/step - accuracy: 0.8026 - loss: 0.1610 - val_accuracy: 0.8028 - val_loss: 0.1588\n",
            "Epoch 25/100\n",
            "211/211 - 2s - 8ms/step - accuracy: 0.8027 - loss: 0.1602 - val_accuracy: 0.8029 - val_loss: 0.1581\n",
            "Epoch 26/100\n",
            "211/211 - 2s - 12ms/step - accuracy: 0.8029 - loss: 0.1595 - val_accuracy: 0.8031 - val_loss: 0.1574\n",
            "Epoch 27/100\n",
            "211/211 - 2s - 9ms/step - accuracy: 0.8030 - loss: 0.1589 - val_accuracy: 0.8032 - val_loss: 0.1567\n",
            "Epoch 28/100\n",
            "211/211 - 2s - 8ms/step - accuracy: 0.8032 - loss: 0.1583 - val_accuracy: 0.8033 - val_loss: 0.1561\n",
            "Epoch 29/100\n",
            "211/211 - 2s - 11ms/step - accuracy: 0.8033 - loss: 0.1577 - val_accuracy: 0.8035 - val_loss: 0.1555\n",
            "Epoch 30/100\n",
            "211/211 - 3s - 12ms/step - accuracy: 0.8034 - loss: 0.1571 - val_accuracy: 0.8035 - val_loss: 0.1549\n",
            "Epoch 31/100\n",
            "211/211 - 3s - 12ms/step - accuracy: 0.8036 - loss: 0.1565 - val_accuracy: 0.8036 - val_loss: 0.1544\n",
            "Epoch 32/100\n",
            "211/211 - 2s - 8ms/step - accuracy: 0.8037 - loss: 0.1559 - val_accuracy: 0.8038 - val_loss: 0.1538\n",
            "Epoch 33/100\n",
            "211/211 - 3s - 13ms/step - accuracy: 0.8038 - loss: 0.1554 - val_accuracy: 0.8038 - val_loss: 0.1533\n",
            "Epoch 34/100\n",
            "211/211 - 2s - 8ms/step - accuracy: 0.8039 - loss: 0.1549 - val_accuracy: 0.8040 - val_loss: 0.1528\n",
            "Epoch 35/100\n",
            "211/211 - 2s - 8ms/step - accuracy: 0.8040 - loss: 0.1544 - val_accuracy: 0.8041 - val_loss: 0.1523\n",
            "Epoch 36/100\n",
            "211/211 - 3s - 12ms/step - accuracy: 0.8041 - loss: 0.1539 - val_accuracy: 0.8041 - val_loss: 0.1519\n",
            "Epoch 37/100\n",
            "211/211 - 2s - 8ms/step - accuracy: 0.8042 - loss: 0.1535 - val_accuracy: 0.8042 - val_loss: 0.1515\n",
            "Epoch 38/100\n",
            "211/211 - 2s - 8ms/step - accuracy: 0.8043 - loss: 0.1530 - val_accuracy: 0.8043 - val_loss: 0.1511\n",
            "Epoch 39/100\n",
            "211/211 - 3s - 13ms/step - accuracy: 0.8044 - loss: 0.1526 - val_accuracy: 0.8044 - val_loss: 0.1507\n",
            "Epoch 40/100\n",
            "211/211 - 2s - 8ms/step - accuracy: 0.8045 - loss: 0.1522 - val_accuracy: 0.8044 - val_loss: 0.1503\n",
            "Epoch 41/100\n",
            "211/211 - 2s - 8ms/step - accuracy: 0.8046 - loss: 0.1518 - val_accuracy: 0.8046 - val_loss: 0.1499\n",
            "Epoch 42/100\n",
            "211/211 - 2s - 8ms/step - accuracy: 0.8047 - loss: 0.1514 - val_accuracy: 0.8047 - val_loss: 0.1495\n",
            "Epoch 43/100\n",
            "211/211 - 2s - 9ms/step - accuracy: 0.8047 - loss: 0.1511 - val_accuracy: 0.8047 - val_loss: 0.1492\n",
            "Epoch 44/100\n",
            "211/211 - 3s - 12ms/step - accuracy: 0.8048 - loss: 0.1507 - val_accuracy: 0.8048 - val_loss: 0.1488\n",
            "Epoch 45/100\n",
            "211/211 - 2s - 12ms/step - accuracy: 0.8049 - loss: 0.1503 - val_accuracy: 0.8048 - val_loss: 0.1486\n",
            "Epoch 46/100\n",
            "211/211 - 2s - 11ms/step - accuracy: 0.8049 - loss: 0.1500 - val_accuracy: 0.8048 - val_loss: 0.1482\n",
            "Epoch 47/100\n",
            "211/211 - 2s - 9ms/step - accuracy: 0.8050 - loss: 0.1496 - val_accuracy: 0.8048 - val_loss: 0.1479\n",
            "Epoch 48/100\n",
            "211/211 - 2s - 8ms/step - accuracy: 0.8051 - loss: 0.1493 - val_accuracy: 0.8049 - val_loss: 0.1476\n",
            "Epoch 49/100\n",
            "211/211 - 2s - 8ms/step - accuracy: 0.8051 - loss: 0.1490 - val_accuracy: 0.8050 - val_loss: 0.1473\n",
            "Epoch 50/100\n",
            "211/211 - 3s - 12ms/step - accuracy: 0.8052 - loss: 0.1487 - val_accuracy: 0.8050 - val_loss: 0.1471\n",
            "Epoch 51/100\n",
            "211/211 - 3s - 12ms/step - accuracy: 0.8053 - loss: 0.1483 - val_accuracy: 0.8051 - val_loss: 0.1467\n",
            "Epoch 52/100\n",
            "211/211 - 2s - 8ms/step - accuracy: 0.8053 - loss: 0.1480 - val_accuracy: 0.8051 - val_loss: 0.1465\n",
            "Epoch 53/100\n",
            "211/211 - 2s - 11ms/step - accuracy: 0.8054 - loss: 0.1477 - val_accuracy: 0.8052 - val_loss: 0.1461\n",
            "Epoch 54/100\n",
            "211/211 - 3s - 12ms/step - accuracy: 0.8055 - loss: 0.1474 - val_accuracy: 0.8053 - val_loss: 0.1459\n",
            "Epoch 55/100\n",
            "211/211 - 2s - 8ms/step - accuracy: 0.8055 - loss: 0.1471 - val_accuracy: 0.8054 - val_loss: 0.1455\n",
            "Epoch 56/100\n",
            "211/211 - 2s - 12ms/step - accuracy: 0.8056 - loss: 0.1469 - val_accuracy: 0.8055 - val_loss: 0.1452\n",
            "Epoch 57/100\n",
            "211/211 - 2s - 8ms/step - accuracy: 0.8056 - loss: 0.1466 - val_accuracy: 0.8055 - val_loss: 0.1449\n",
            "Epoch 58/100\n",
            "211/211 - 2s - 8ms/step - accuracy: 0.8057 - loss: 0.1463 - val_accuracy: 0.8056 - val_loss: 0.1447\n",
            "Epoch 59/100\n",
            "211/211 - 2s - 12ms/step - accuracy: 0.8057 - loss: 0.1460 - val_accuracy: 0.8057 - val_loss: 0.1444\n",
            "Epoch 60/100\n",
            "211/211 - 2s - 8ms/step - accuracy: 0.8058 - loss: 0.1458 - val_accuracy: 0.8058 - val_loss: 0.1441\n",
            "Epoch 61/100\n",
            "211/211 - 2s - 8ms/step - accuracy: 0.8058 - loss: 0.1455 - val_accuracy: 0.8058 - val_loss: 0.1438\n",
            "Epoch 62/100\n",
            "211/211 - 3s - 12ms/step - accuracy: 0.8059 - loss: 0.1452 - val_accuracy: 0.8059 - val_loss: 0.1436\n",
            "Epoch 63/100\n",
            "211/211 - 2s - 8ms/step - accuracy: 0.8059 - loss: 0.1450 - val_accuracy: 0.8060 - val_loss: 0.1433\n",
            "Epoch 64/100\n",
            "211/211 - 2s - 9ms/step - accuracy: 0.8060 - loss: 0.1447 - val_accuracy: 0.8061 - val_loss: 0.1431\n",
            "Epoch 65/100\n",
            "211/211 - 2s - 8ms/step - accuracy: 0.8060 - loss: 0.1445 - val_accuracy: 0.8061 - val_loss: 0.1428\n",
            "Epoch 66/100\n",
            "211/211 - 2s - 12ms/step - accuracy: 0.8060 - loss: 0.1443 - val_accuracy: 0.8062 - val_loss: 0.1426\n",
            "Epoch 67/100\n",
            "211/211 - 2s - 12ms/step - accuracy: 0.8061 - loss: 0.1440 - val_accuracy: 0.8062 - val_loss: 0.1424\n",
            "Epoch 68/100\n",
            "211/211 - 2s - 8ms/step - accuracy: 0.8061 - loss: 0.1438 - val_accuracy: 0.8063 - val_loss: 0.1422\n",
            "Epoch 69/100\n",
            "211/211 - 3s - 12ms/step - accuracy: 0.8062 - loss: 0.1436 - val_accuracy: 0.8063 - val_loss: 0.1419\n",
            "Epoch 70/100\n",
            "211/211 - 2s - 8ms/step - accuracy: 0.8062 - loss: 0.1433 - val_accuracy: 0.8063 - val_loss: 0.1417\n",
            "Epoch 71/100\n",
            "211/211 - 2s - 11ms/step - accuracy: 0.8063 - loss: 0.1431 - val_accuracy: 0.8064 - val_loss: 0.1415\n",
            "Epoch 72/100\n",
            "211/211 - 3s - 12ms/step - accuracy: 0.8063 - loss: 0.1429 - val_accuracy: 0.8064 - val_loss: 0.1414\n",
            "Epoch 73/100\n",
            "211/211 - 2s - 8ms/step - accuracy: 0.8063 - loss: 0.1427 - val_accuracy: 0.8064 - val_loss: 0.1412\n",
            "Epoch 74/100\n",
            "211/211 - 3s - 12ms/step - accuracy: 0.8064 - loss: 0.1425 - val_accuracy: 0.8065 - val_loss: 0.1410\n",
            "Epoch 75/100\n",
            "211/211 - 2s - 8ms/step - accuracy: 0.8064 - loss: 0.1423 - val_accuracy: 0.8065 - val_loss: 0.1408\n",
            "Epoch 76/100\n",
            "211/211 - 2s - 9ms/step - accuracy: 0.8064 - loss: 0.1421 - val_accuracy: 0.8065 - val_loss: 0.1406\n",
            "Epoch 77/100\n",
            "211/211 - 2s - 8ms/step - accuracy: 0.8065 - loss: 0.1419 - val_accuracy: 0.8066 - val_loss: 0.1404\n",
            "Epoch 78/100\n",
            "211/211 - 3s - 12ms/step - accuracy: 0.8065 - loss: 0.1417 - val_accuracy: 0.8066 - val_loss: 0.1402\n",
            "Epoch 79/100\n",
            "211/211 - 3s - 12ms/step - accuracy: 0.8065 - loss: 0.1415 - val_accuracy: 0.8066 - val_loss: 0.1400\n",
            "Epoch 80/100\n",
            "211/211 - 2s - 8ms/step - accuracy: 0.8066 - loss: 0.1413 - val_accuracy: 0.8067 - val_loss: 0.1399\n",
            "Epoch 81/100\n",
            "211/211 - 3s - 12ms/step - accuracy: 0.8066 - loss: 0.1411 - val_accuracy: 0.8067 - val_loss: 0.1397\n",
            "Epoch 82/100\n",
            "211/211 - 2s - 12ms/step - accuracy: 0.8066 - loss: 0.1409 - val_accuracy: 0.8068 - val_loss: 0.1395\n",
            "Epoch 83/100\n",
            "211/211 - 2s - 8ms/step - accuracy: 0.8067 - loss: 0.1407 - val_accuracy: 0.8068 - val_loss: 0.1393\n",
            "Epoch 84/100\n",
            "211/211 - 3s - 12ms/step - accuracy: 0.8067 - loss: 0.1405 - val_accuracy: 0.8068 - val_loss: 0.1392\n",
            "Epoch 85/100\n",
            "211/211 - 2s - 8ms/step - accuracy: 0.8067 - loss: 0.1404 - val_accuracy: 0.8068 - val_loss: 0.1390\n",
            "Epoch 86/100\n",
            "211/211 - 2s - 8ms/step - accuracy: 0.8068 - loss: 0.1402 - val_accuracy: 0.8068 - val_loss: 0.1389\n",
            "Epoch 87/100\n",
            "211/211 - 2s - 9ms/step - accuracy: 0.8068 - loss: 0.1401 - val_accuracy: 0.8068 - val_loss: 0.1387\n",
            "Epoch 88/100\n",
            "211/211 - 2s - 11ms/step - accuracy: 0.8068 - loss: 0.1399 - val_accuracy: 0.8068 - val_loss: 0.1386\n",
            "Epoch 89/100\n",
            "211/211 - 2s - 8ms/step - accuracy: 0.8068 - loss: 0.1397 - val_accuracy: 0.8069 - val_loss: 0.1384\n",
            "Epoch 90/100\n",
            "211/211 - 2s - 8ms/step - accuracy: 0.8069 - loss: 0.1395 - val_accuracy: 0.8069 - val_loss: 0.1382\n",
            "Epoch 91/100\n",
            "211/211 - 3s - 12ms/step - accuracy: 0.8069 - loss: 0.1394 - val_accuracy: 0.8069 - val_loss: 0.1381\n",
            "Epoch 92/100\n",
            "211/211 - 3s - 12ms/step - accuracy: 0.8069 - loss: 0.1392 - val_accuracy: 0.8069 - val_loss: 0.1380\n",
            "Epoch 93/100\n",
            "211/211 - 3s - 12ms/step - accuracy: 0.8070 - loss: 0.1391 - val_accuracy: 0.8070 - val_loss: 0.1378\n",
            "Epoch 94/100\n",
            "211/211 - 2s - 12ms/step - accuracy: 0.8070 - loss: 0.1389 - val_accuracy: 0.8070 - val_loss: 0.1376\n",
            "Epoch 95/100\n",
            "211/211 - 2s - 12ms/step - accuracy: 0.8070 - loss: 0.1388 - val_accuracy: 0.8070 - val_loss: 0.1375\n",
            "Epoch 96/100\n",
            "211/211 - 2s - 8ms/step - accuracy: 0.8070 - loss: 0.1386 - val_accuracy: 0.8070 - val_loss: 0.1373\n",
            "Epoch 97/100\n",
            "211/211 - 3s - 12ms/step - accuracy: 0.8071 - loss: 0.1385 - val_accuracy: 0.8070 - val_loss: 0.1372\n",
            "Epoch 98/100\n",
            "211/211 - 3s - 13ms/step - accuracy: 0.8071 - loss: 0.1383 - val_accuracy: 0.8070 - val_loss: 0.1371\n",
            "Epoch 99/100\n",
            "211/211 - 2s - 8ms/step - accuracy: 0.8071 - loss: 0.1382 - val_accuracy: 0.8071 - val_loss: 0.1369\n",
            "Epoch 100/100\n",
            "211/211 - 2s - 12ms/step - accuracy: 0.8071 - loss: 0.1380 - val_accuracy: 0.8070 - val_loss: 0.1368\n",
            "Training took 223.7874186038971 Seconds\n"
          ]
        }
      ]
    },
    {
      "cell_type": "code",
      "source": [
        "#predicting using both encoder and decoder together\n",
        "\n",
        "dns_decoded_image= Ae_Conv_denoise.predict(x_test_noisy)\n",
        "print(\"Recreated img rep of shape {} using decoder and reduced img rep using encoder.\")\n",
        "\n",
        "n=10\n",
        "k=16 # multiplier\n",
        "plt.figure(figsize=(20,4))\n",
        "for i in range(n):\n",
        "    ax=plt.subplot(2,n,i+1)\n",
        "    plt.imshow(x_test_noisy[i*k].reshape(28,28))\n",
        "    plt.gray()\n",
        "    ax.get_xaxis().set_visible(False)\n",
        "    ax.get_yaxis().set_visible(False)\n",
        "\n",
        "\n",
        "    #displaying reconstruction\n",
        "    ax=plt.subplot(2 ,n , i+1+n)\n",
        "    plt.imshow(dns_decoded_image[i*k].reshape(28,28))\n",
        "    plt.gray()\n",
        "    ax.get_xaxis().set_visible(False)\n",
        "    ax.get_yaxis().set_visible(False)\n",
        "plt.show()"
      ],
      "metadata": {
        "colab": {
          "base_uri": "https://localhost:8080/",
          "height": 392
        },
        "id": "dKYtnOYjPcRj",
        "outputId": "15613964-a200-4815-bebb-5ca39cc2012a"
      },
      "execution_count": 25,
      "outputs": [
        {
          "output_type": "stream",
          "name": "stdout",
          "text": [
            "\u001b[1m313/313\u001b[0m \u001b[32m━━━━━━━━━━━━━━━━━━━━\u001b[0m\u001b[37m\u001b[0m \u001b[1m0s\u001b[0m 1ms/step\n",
            "Recreated img rep of shape {} using decoder and reduced img rep using encoder.\n"
          ]
        },
        {
          "output_type": "display_data",
          "data": {
            "text/plain": [
              "<Figure size 2000x400 with 20 Axes>"
            ],
            "image/png": "[encoded data removed]"
          },
          "metadata": {}
        }
      ]
    },
    {
      "cell_type": "markdown",
      "source": [
        "Overall Impact of k:\n",
        "\n",
        "A higher k value will select images further apart in the x_test_noisy and dns_decoded_image arrays. This means you'll see reconstructions for images that are spaced farther apart in the original test data.\n",
        "A lower k value (like 1) would display images closer together in the sequence, potentially showing reconstructions for consecutive images.\n",
        "In essence, k controls the sampling frequency of the images you visualize, allowing you to choose specific pairs or show them with different spacing within the test data."
      ],
      "metadata": {
        "id": "3IExDHErQotp"
      }
    }
  ]
}